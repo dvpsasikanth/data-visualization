{
 "cells": [
  {
   "cell_type": "code",
   "execution_count": 1,
   "metadata": {},
   "outputs": [],
   "source": [
    "import pandas as pd\n",
    "import numpy as np\n",
    "import seaborn as sns\n",
    "import matplotlib.pyplot as plt\n",
    "%matplotlib inline\n",
    "sns.set(color_codes=True)"
   ]
  },
  {
   "cell_type": "code",
   "execution_count": 2,
   "metadata": {
    "scrolled": false
   },
   "outputs": [
    {
     "data": {
      "text/html": [
       "<div>\n",
       "<style scoped>\n",
       "    .dataframe tbody tr th:only-of-type {\n",
       "        vertical-align: middle;\n",
       "    }\n",
       "\n",
       "    .dataframe tbody tr th {\n",
       "        vertical-align: top;\n",
       "    }\n",
       "\n",
       "    .dataframe thead th {\n",
       "        text-align: right;\n",
       "    }\n",
       "</style>\n",
       "<table border=\"1\" class=\"dataframe\">\n",
       "  <thead>\n",
       "    <tr style=\"text-align: right;\">\n",
       "      <th></th>\n",
       "      <th>ID</th>\n",
       "      <th>yrmo</th>\n",
       "      <th>AdderallPatients</th>\n",
       "      <th>AdderallPayments</th>\n",
       "      <th>AntibioPatients</th>\n",
       "      <th>AntibioPayments</th>\n",
       "      <th>OpioidPatients</th>\n",
       "      <th>OpioidPayments</th>\n",
       "    </tr>\n",
       "  </thead>\n",
       "  <tbody>\n",
       "    <tr>\n",
       "      <th>0</th>\n",
       "      <td>6vFQfkVIyHglLHjv</td>\n",
       "      <td>2015-01</td>\n",
       "      <td>NaN</td>\n",
       "      <td>NaN</td>\n",
       "      <td>4.0</td>\n",
       "      <td>2439.0</td>\n",
       "      <td>2.0</td>\n",
       "      <td>2.0</td>\n",
       "    </tr>\n",
       "    <tr>\n",
       "      <th>1</th>\n",
       "      <td>6vFQfkVIyHglLHjv</td>\n",
       "      <td>2015-02</td>\n",
       "      <td>1.0</td>\n",
       "      <td>114.0</td>\n",
       "      <td>1.0</td>\n",
       "      <td>5.0</td>\n",
       "      <td>NaN</td>\n",
       "      <td>NaN</td>\n",
       "    </tr>\n",
       "    <tr>\n",
       "      <th>2</th>\n",
       "      <td>6vFQfkVIyHglLHjv</td>\n",
       "      <td>2015-03</td>\n",
       "      <td>NaN</td>\n",
       "      <td>NaN</td>\n",
       "      <td>4.0</td>\n",
       "      <td>6396.0</td>\n",
       "      <td>NaN</td>\n",
       "      <td>NaN</td>\n",
       "    </tr>\n",
       "    <tr>\n",
       "      <th>3</th>\n",
       "      <td>6vFQfkVIyHglLHjv</td>\n",
       "      <td>2015-04</td>\n",
       "      <td>1.0</td>\n",
       "      <td>120.0</td>\n",
       "      <td>2.0</td>\n",
       "      <td>9.0</td>\n",
       "      <td>NaN</td>\n",
       "      <td>NaN</td>\n",
       "    </tr>\n",
       "    <tr>\n",
       "      <th>4</th>\n",
       "      <td>6vFQfkVIyHglLHjv</td>\n",
       "      <td>2015-05</td>\n",
       "      <td>NaN</td>\n",
       "      <td>NaN</td>\n",
       "      <td>26.0</td>\n",
       "      <td>16963.0</td>\n",
       "      <td>2.0</td>\n",
       "      <td>4.0</td>\n",
       "    </tr>\n",
       "  </tbody>\n",
       "</table>\n",
       "</div>"
      ],
      "text/plain": [
       "                 ID     yrmo  AdderallPatients  AdderallPayments  \\\n",
       "0  6vFQfkVIyHglLHjv  2015-01               NaN               NaN   \n",
       "1  6vFQfkVIyHglLHjv  2015-02               1.0             114.0   \n",
       "2  6vFQfkVIyHglLHjv  2015-03               NaN               NaN   \n",
       "3  6vFQfkVIyHglLHjv  2015-04               1.0             120.0   \n",
       "4  6vFQfkVIyHglLHjv  2015-05               NaN               NaN   \n",
       "\n",
       "   AntibioPatients  AntibioPayments  OpioidPatients  OpioidPayments  \n",
       "0              4.0           2439.0             2.0             2.0  \n",
       "1              1.0              5.0             NaN             NaN  \n",
       "2              4.0           6396.0             NaN             NaN  \n",
       "3              2.0              9.0             NaN             NaN  \n",
       "4             26.0          16963.0             2.0             4.0  "
      ]
     },
     "execution_count": 2,
     "metadata": {},
     "output_type": "execute_result"
    }
   ],
   "source": [
    "data = pd.read_csv(\"antibiotics.csv\")\n",
    "data.head()"
   ]
  },
  {
   "cell_type": "code",
   "execution_count": 3,
   "metadata": {},
   "outputs": [
    {
     "data": {
      "text/plain": [
       "ID                  42074\n",
       "yrmo                42074\n",
       "AdderallPatients    23889\n",
       "AdderallPayments    23889\n",
       "AntibioPatients     39829\n",
       "AntibioPayments     39826\n",
       "OpioidPatients      12588\n",
       "OpioidPayments      12588\n",
       "dtype: int64"
      ]
     },
     "execution_count": 3,
     "metadata": {},
     "output_type": "execute_result"
    }
   ],
   "source": [
    "data.count()"
   ]
  },
  {
   "cell_type": "code",
   "execution_count": 4,
   "metadata": {},
   "outputs": [
    {
     "data": {
      "text/plain": [
       "ID                   object\n",
       "yrmo                 object\n",
       "AdderallPatients    float64\n",
       "AdderallPayments    float64\n",
       "AntibioPatients     float64\n",
       "AntibioPayments     float64\n",
       "OpioidPatients      float64\n",
       "OpioidPayments      float64\n",
       "dtype: object"
      ]
     },
     "execution_count": 4,
     "metadata": {},
     "output_type": "execute_result"
    }
   ],
   "source": [
    "data.dtypes"
   ]
  },
  {
   "cell_type": "markdown",
   "metadata": {},
   "source": [
    "Subsetting Adderall from the main data"
   ]
  },
  {
   "cell_type": "code",
   "execution_count": 5,
   "metadata": {},
   "outputs": [
    {
     "data": {
      "text/html": [
       "<div>\n",
       "<style scoped>\n",
       "    .dataframe tbody tr th:only-of-type {\n",
       "        vertical-align: middle;\n",
       "    }\n",
       "\n",
       "    .dataframe tbody tr th {\n",
       "        vertical-align: top;\n",
       "    }\n",
       "\n",
       "    .dataframe thead th {\n",
       "        text-align: right;\n",
       "    }\n",
       "</style>\n",
       "<table border=\"1\" class=\"dataframe\">\n",
       "  <thead>\n",
       "    <tr style=\"text-align: right;\">\n",
       "      <th></th>\n",
       "      <th>ID</th>\n",
       "      <th>yrmo</th>\n",
       "      <th>AdderallPatients</th>\n",
       "      <th>AdderallPayments</th>\n",
       "    </tr>\n",
       "  </thead>\n",
       "  <tbody>\n",
       "    <tr>\n",
       "      <th>0</th>\n",
       "      <td>6vFQfkVIyHglLHjv</td>\n",
       "      <td>2015-01</td>\n",
       "      <td>NaN</td>\n",
       "      <td>NaN</td>\n",
       "    </tr>\n",
       "    <tr>\n",
       "      <th>1</th>\n",
       "      <td>6vFQfkVIyHglLHjv</td>\n",
       "      <td>2015-02</td>\n",
       "      <td>1.0</td>\n",
       "      <td>114.0</td>\n",
       "    </tr>\n",
       "    <tr>\n",
       "      <th>2</th>\n",
       "      <td>6vFQfkVIyHglLHjv</td>\n",
       "      <td>2015-03</td>\n",
       "      <td>NaN</td>\n",
       "      <td>NaN</td>\n",
       "    </tr>\n",
       "    <tr>\n",
       "      <th>3</th>\n",
       "      <td>6vFQfkVIyHglLHjv</td>\n",
       "      <td>2015-04</td>\n",
       "      <td>1.0</td>\n",
       "      <td>120.0</td>\n",
       "    </tr>\n",
       "    <tr>\n",
       "      <th>4</th>\n",
       "      <td>6vFQfkVIyHglLHjv</td>\n",
       "      <td>2015-05</td>\n",
       "      <td>NaN</td>\n",
       "      <td>NaN</td>\n",
       "    </tr>\n",
       "  </tbody>\n",
       "</table>\n",
       "</div>"
      ],
      "text/plain": [
       "                 ID     yrmo  AdderallPatients  AdderallPayments\n",
       "0  6vFQfkVIyHglLHjv  2015-01               NaN               NaN\n",
       "1  6vFQfkVIyHglLHjv  2015-02               1.0             114.0\n",
       "2  6vFQfkVIyHglLHjv  2015-03               NaN               NaN\n",
       "3  6vFQfkVIyHglLHjv  2015-04               1.0             120.0\n",
       "4  6vFQfkVIyHglLHjv  2015-05               NaN               NaN"
      ]
     },
     "execution_count": 5,
     "metadata": {},
     "output_type": "execute_result"
    }
   ],
   "source": [
    "adderall = data.drop(['AntibioPatients','AntibioPayments','OpioidPatients','OpioidPayments'], axis=1)\n",
    "adderall.head()"
   ]
  },
  {
   "cell_type": "code",
   "execution_count": 6,
   "metadata": {},
   "outputs": [
    {
     "name": "stdout",
     "output_type": "stream",
     "text": [
      "ID                      0\n",
      "yrmo                    0\n",
      "AdderallPatients    18185\n",
      "AdderallPayments    18185\n",
      "dtype: int64\n"
     ]
    },
    {
     "data": {
      "text/plain": [
       "ID                  23889\n",
       "yrmo                23889\n",
       "AdderallPatients    23889\n",
       "AdderallPayments    23889\n",
       "dtype: int64"
      ]
     },
     "execution_count": 6,
     "metadata": {},
     "output_type": "execute_result"
    }
   ],
   "source": [
    "print(adderall.isnull().sum())\n",
    "adderall = adderall.dropna()\n",
    "adderall.count()"
   ]
  },
  {
   "cell_type": "code",
   "execution_count": 7,
   "metadata": {
    "scrolled": true
   },
   "outputs": [
    {
     "data": {
      "text/plain": [
       "1        False\n",
       "3        False\n",
       "5        False\n",
       "6        False\n",
       "7        False\n",
       "9        False\n",
       "12       False\n",
       "14       False\n",
       "15       False\n",
       "16       False\n",
       "20       False\n",
       "21       False\n",
       "22       False\n",
       "23       False\n",
       "26       False\n",
       "28       False\n",
       "29       False\n",
       "30       False\n",
       "31       False\n",
       "32       False\n",
       "33       False\n",
       "37       False\n",
       "39       False\n",
       "41       False\n",
       "43       False\n",
       "45       False\n",
       "47       False\n",
       "48       False\n",
       "50       False\n",
       "53       False\n",
       "         ...  \n",
       "42027    False\n",
       "42029    False\n",
       "42031    False\n",
       "42032    False\n",
       "42033    False\n",
       "42034    False\n",
       "42035    False\n",
       "42037    False\n",
       "42038    False\n",
       "42043    False\n",
       "42044    False\n",
       "42046    False\n",
       "42047    False\n",
       "42048    False\n",
       "42049    False\n",
       "42052    False\n",
       "42055    False\n",
       "42056    False\n",
       "42057    False\n",
       "42058    False\n",
       "42059    False\n",
       "42061    False\n",
       "42062    False\n",
       "42064    False\n",
       "42066    False\n",
       "42068    False\n",
       "42069    False\n",
       "42070    False\n",
       "42071    False\n",
       "42073    False\n",
       "Length: 23889, dtype: bool"
      ]
     },
     "execution_count": 7,
     "metadata": {},
     "output_type": "execute_result"
    }
   ],
   "source": [
    "adderall.duplicated()"
   ]
  },
  {
   "cell_type": "code",
   "execution_count": 8,
   "metadata": {
    "scrolled": true
   },
   "outputs": [
    {
     "data": {
      "text/plain": [
       "<matplotlib.axes._subplots.AxesSubplot at 0x1adacc93e48>"
      ]
     },
     "execution_count": 8,
     "metadata": {},
     "output_type": "execute_result"
    },
    {
     "data": {
      "image/png": "[encoded data removed]",
      "text/plain": [
       "<Figure size 432x288 with 1 Axes>"
      ]
     },
     "metadata": {
      "needs_background": "light"
     },
     "output_type": "display_data"
    }
   ],
   "source": [
    "sns.boxplot(x=adderall['AdderallPatients'])"
   ]
  },
  {
   "cell_type": "markdown",
   "metadata": {},
   "source": [
    "Subsetting Antibio from the main data"
   ]
  },
  {
   "cell_type": "code",
   "execution_count": 9,
   "metadata": {},
   "outputs": [
    {
     "data": {
      "text/html": [
       "<div>\n",
       "<style scoped>\n",
       "    .dataframe tbody tr th:only-of-type {\n",
       "        vertical-align: middle;\n",
       "    }\n",
       "\n",
       "    .dataframe tbody tr th {\n",
       "        vertical-align: top;\n",
       "    }\n",
       "\n",
       "    .dataframe thead th {\n",
       "        text-align: right;\n",
       "    }\n",
       "</style>\n",
       "<table border=\"1\" class=\"dataframe\">\n",
       "  <thead>\n",
       "    <tr style=\"text-align: right;\">\n",
       "      <th></th>\n",
       "      <th>ID</th>\n",
       "      <th>yrmo</th>\n",
       "      <th>AntibioPatients</th>\n",
       "      <th>AntibioPayments</th>\n",
       "    </tr>\n",
       "  </thead>\n",
       "  <tbody>\n",
       "    <tr>\n",
       "      <th>0</th>\n",
       "      <td>6vFQfkVIyHglLHjv</td>\n",
       "      <td>2015-01</td>\n",
       "      <td>4.0</td>\n",
       "      <td>2439.0</td>\n",
       "    </tr>\n",
       "    <tr>\n",
       "      <th>1</th>\n",
       "      <td>6vFQfkVIyHglLHjv</td>\n",
       "      <td>2015-02</td>\n",
       "      <td>1.0</td>\n",
       "      <td>5.0</td>\n",
       "    </tr>\n",
       "    <tr>\n",
       "      <th>2</th>\n",
       "      <td>6vFQfkVIyHglLHjv</td>\n",
       "      <td>2015-03</td>\n",
       "      <td>4.0</td>\n",
       "      <td>6396.0</td>\n",
       "    </tr>\n",
       "    <tr>\n",
       "      <th>3</th>\n",
       "      <td>6vFQfkVIyHglLHjv</td>\n",
       "      <td>2015-04</td>\n",
       "      <td>2.0</td>\n",
       "      <td>9.0</td>\n",
       "    </tr>\n",
       "    <tr>\n",
       "      <th>4</th>\n",
       "      <td>6vFQfkVIyHglLHjv</td>\n",
       "      <td>2015-05</td>\n",
       "      <td>26.0</td>\n",
       "      <td>16963.0</td>\n",
       "    </tr>\n",
       "  </tbody>\n",
       "</table>\n",
       "</div>"
      ],
      "text/plain": [
       "                 ID     yrmo  AntibioPatients  AntibioPayments\n",
       "0  6vFQfkVIyHglLHjv  2015-01              4.0           2439.0\n",
       "1  6vFQfkVIyHglLHjv  2015-02              1.0              5.0\n",
       "2  6vFQfkVIyHglLHjv  2015-03              4.0           6396.0\n",
       "3  6vFQfkVIyHglLHjv  2015-04              2.0              9.0\n",
       "4  6vFQfkVIyHglLHjv  2015-05             26.0          16963.0"
      ]
     },
     "execution_count": 9,
     "metadata": {},
     "output_type": "execute_result"
    }
   ],
   "source": [
    "antibio = data.drop(['AdderallPatients','AdderallPayments','OpioidPatients','OpioidPayments'], axis=1)\n",
    "antibio.head()"
   ]
  },
  {
   "cell_type": "code",
   "execution_count": 10,
   "metadata": {},
   "outputs": [
    {
     "name": "stdout",
     "output_type": "stream",
     "text": [
      "ID                    0\n",
      "yrmo                  0\n",
      "AntibioPatients    2245\n",
      "AntibioPayments    2248\n",
      "dtype: int64\n"
     ]
    },
    {
     "data": {
      "text/plain": [
       "ID                 39826\n",
       "yrmo               39826\n",
       "AntibioPatients    39826\n",
       "AntibioPayments    39826\n",
       "dtype: int64"
      ]
     },
     "execution_count": 10,
     "metadata": {},
     "output_type": "execute_result"
    }
   ],
   "source": [
    "print(antibio.isnull().sum())\n",
    "antibio = antibio.dropna()\n",
    "antibio.count()"
   ]
  },
  {
   "cell_type": "code",
   "execution_count": 11,
   "metadata": {
    "scrolled": true
   },
   "outputs": [
    {
     "data": {
      "text/plain": [
       "0        False\n",
       "1        False\n",
       "2        False\n",
       "3        False\n",
       "4        False\n",
       "5        False\n",
       "6        False\n",
       "7        False\n",
       "8        False\n",
       "9        False\n",
       "10       False\n",
       "11       False\n",
       "12       False\n",
       "13       False\n",
       "14       False\n",
       "15       False\n",
       "16       False\n",
       "17       False\n",
       "18       False\n",
       "19       False\n",
       "20       False\n",
       "21       False\n",
       "22       False\n",
       "23       False\n",
       "25       False\n",
       "26       False\n",
       "27       False\n",
       "28       False\n",
       "29       False\n",
       "30       False\n",
       "         ...  \n",
       "42040    False\n",
       "42041    False\n",
       "42043    False\n",
       "42044    False\n",
       "42045    False\n",
       "42046    False\n",
       "42047    False\n",
       "42048    False\n",
       "42049    False\n",
       "42050    False\n",
       "42052    False\n",
       "42054    False\n",
       "42055    False\n",
       "42056    False\n",
       "42057    False\n",
       "42058    False\n",
       "42059    False\n",
       "42060    False\n",
       "42061    False\n",
       "42062    False\n",
       "42063    False\n",
       "42064    False\n",
       "42066    False\n",
       "42067    False\n",
       "42068    False\n",
       "42069    False\n",
       "42070    False\n",
       "42071    False\n",
       "42072    False\n",
       "42073    False\n",
       "Length: 39826, dtype: bool"
      ]
     },
     "execution_count": 11,
     "metadata": {},
     "output_type": "execute_result"
    }
   ],
   "source": [
    "antibio.duplicated()"
   ]
  },
  {
   "cell_type": "markdown",
   "metadata": {},
   "source": [
    "Subsetting Opioid from the main data"
   ]
  },
  {
   "cell_type": "code",
   "execution_count": 12,
   "metadata": {},
   "outputs": [
    {
     "data": {
      "text/html": [
       "<div>\n",
       "<style scoped>\n",
       "    .dataframe tbody tr th:only-of-type {\n",
       "        vertical-align: middle;\n",
       "    }\n",
       "\n",
       "    .dataframe tbody tr th {\n",
       "        vertical-align: top;\n",
       "    }\n",
       "\n",
       "    .dataframe thead th {\n",
       "        text-align: right;\n",
       "    }\n",
       "</style>\n",
       "<table border=\"1\" class=\"dataframe\">\n",
       "  <thead>\n",
       "    <tr style=\"text-align: right;\">\n",
       "      <th></th>\n",
       "      <th>ID</th>\n",
       "      <th>yrmo</th>\n",
       "      <th>OpioidPatients</th>\n",
       "      <th>OpioidPayments</th>\n",
       "    </tr>\n",
       "  </thead>\n",
       "  <tbody>\n",
       "    <tr>\n",
       "      <th>0</th>\n",
       "      <td>6vFQfkVIyHglLHjv</td>\n",
       "      <td>2015-01</td>\n",
       "      <td>2.0</td>\n",
       "      <td>2.0</td>\n",
       "    </tr>\n",
       "    <tr>\n",
       "      <th>1</th>\n",
       "      <td>6vFQfkVIyHglLHjv</td>\n",
       "      <td>2015-02</td>\n",
       "      <td>NaN</td>\n",
       "      <td>NaN</td>\n",
       "    </tr>\n",
       "    <tr>\n",
       "      <th>2</th>\n",
       "      <td>6vFQfkVIyHglLHjv</td>\n",
       "      <td>2015-03</td>\n",
       "      <td>NaN</td>\n",
       "      <td>NaN</td>\n",
       "    </tr>\n",
       "    <tr>\n",
       "      <th>3</th>\n",
       "      <td>6vFQfkVIyHglLHjv</td>\n",
       "      <td>2015-04</td>\n",
       "      <td>NaN</td>\n",
       "      <td>NaN</td>\n",
       "    </tr>\n",
       "    <tr>\n",
       "      <th>4</th>\n",
       "      <td>6vFQfkVIyHglLHjv</td>\n",
       "      <td>2015-05</td>\n",
       "      <td>2.0</td>\n",
       "      <td>4.0</td>\n",
       "    </tr>\n",
       "  </tbody>\n",
       "</table>\n",
       "</div>"
      ],
      "text/plain": [
       "                 ID     yrmo  OpioidPatients  OpioidPayments\n",
       "0  6vFQfkVIyHglLHjv  2015-01             2.0             2.0\n",
       "1  6vFQfkVIyHglLHjv  2015-02             NaN             NaN\n",
       "2  6vFQfkVIyHglLHjv  2015-03             NaN             NaN\n",
       "3  6vFQfkVIyHglLHjv  2015-04             NaN             NaN\n",
       "4  6vFQfkVIyHglLHjv  2015-05             2.0             4.0"
      ]
     },
     "execution_count": 12,
     "metadata": {},
     "output_type": "execute_result"
    }
   ],
   "source": [
    "opioid = data.drop(['AdderallPatients','AdderallPayments','AntibioPatients','AntibioPayments'], axis=1)\n",
    "opioid.head()"
   ]
  },
  {
   "cell_type": "code",
   "execution_count": 13,
   "metadata": {},
   "outputs": [
    {
     "name": "stdout",
     "output_type": "stream",
     "text": [
      "ID                    0\n",
      "yrmo                  0\n",
      "OpioidPatients    29486\n",
      "OpioidPayments    29486\n",
      "dtype: int64\n"
     ]
    },
    {
     "data": {
      "text/plain": [
       "ID                12588\n",
       "yrmo              12588\n",
       "OpioidPatients    12588\n",
       "OpioidPayments    12588\n",
       "dtype: int64"
      ]
     },
     "execution_count": 13,
     "metadata": {},
     "output_type": "execute_result"
    }
   ],
   "source": [
    "print(opioid.isnull().sum())\n",
    "opioid = opioid.dropna()\n",
    "opioid.count()"
   ]
  },
  {
   "cell_type": "code",
   "execution_count": 14,
   "metadata": {
    "scrolled": true
   },
   "outputs": [
    {
     "data": {
      "text/plain": [
       "0        False\n",
       "4        False\n",
       "6        False\n",
       "7        False\n",
       "9        False\n",
       "12       False\n",
       "20       False\n",
       "21       False\n",
       "23       False\n",
       "24       False\n",
       "32       False\n",
       "33       False\n",
       "35       False\n",
       "41       False\n",
       "43       False\n",
       "44       False\n",
       "47       False\n",
       "50       False\n",
       "52       False\n",
       "54       False\n",
       "58       False\n",
       "62       False\n",
       "65       False\n",
       "72       False\n",
       "73       False\n",
       "76       False\n",
       "77       False\n",
       "78       False\n",
       "81       False\n",
       "84       False\n",
       "         ...  \n",
       "41980    False\n",
       "41987    False\n",
       "41994    False\n",
       "42004    False\n",
       "42006    False\n",
       "42009    False\n",
       "42010    False\n",
       "42013    False\n",
       "42014    False\n",
       "42017    False\n",
       "42019    False\n",
       "42022    False\n",
       "42023    False\n",
       "42030    False\n",
       "42032    False\n",
       "42033    False\n",
       "42035    False\n",
       "42039    False\n",
       "42041    False\n",
       "42042    False\n",
       "42046    False\n",
       "42047    False\n",
       "42048    False\n",
       "42049    False\n",
       "42052    False\n",
       "42057    False\n",
       "42058    False\n",
       "42059    False\n",
       "42063    False\n",
       "42065    False\n",
       "Length: 12588, dtype: bool"
      ]
     },
     "execution_count": 14,
     "metadata": {},
     "output_type": "execute_result"
    }
   ],
   "source": [
    "opioid.duplicated()"
   ]
  },
  {
   "cell_type": "markdown",
   "metadata": {},
   "source": [
    "---"
   ]
  },
  {
   "cell_type": "markdown",
   "metadata": {},
   "source": [
    "Grouping adderall patients based on ID's"
   ]
  },
  {
   "cell_type": "code",
   "execution_count": 15,
   "metadata": {
    "scrolled": true
   },
   "outputs": [
    {
     "data": {
      "text/html": [
       "<div>\n",
       "<style scoped>\n",
       "    .dataframe tbody tr th:only-of-type {\n",
       "        vertical-align: middle;\n",
       "    }\n",
       "\n",
       "    .dataframe tbody tr th {\n",
       "        vertical-align: top;\n",
       "    }\n",
       "\n",
       "    .dataframe thead th {\n",
       "        text-align: right;\n",
       "    }\n",
       "</style>\n",
       "<table border=\"1\" class=\"dataframe\">\n",
       "  <thead>\n",
       "    <tr style=\"text-align: right;\">\n",
       "      <th></th>\n",
       "      <th>ID</th>\n",
       "      <th>Patients</th>\n",
       "    </tr>\n",
       "  </thead>\n",
       "  <tbody>\n",
       "    <tr>\n",
       "      <th>0</th>\n",
       "      <td>UY8bW4koFtgJI8J7</td>\n",
       "      <td>1836.0</td>\n",
       "    </tr>\n",
       "    <tr>\n",
       "      <th>1</th>\n",
       "      <td>YvXc9PhW83aoHti9</td>\n",
       "      <td>821.0</td>\n",
       "    </tr>\n",
       "    <tr>\n",
       "      <th>2</th>\n",
       "      <td>azXdkxORxbkUXDV0</td>\n",
       "      <td>681.0</td>\n",
       "    </tr>\n",
       "    <tr>\n",
       "      <th>3</th>\n",
       "      <td>GLwAKSb708GXX52I</td>\n",
       "      <td>559.0</td>\n",
       "    </tr>\n",
       "    <tr>\n",
       "      <th>4</th>\n",
       "      <td>aEkqIqMVzEB2XzDx</td>\n",
       "      <td>286.0</td>\n",
       "    </tr>\n",
       "    <tr>\n",
       "      <th>5</th>\n",
       "      <td>OcwkZfEl4FaScz1p</td>\n",
       "      <td>232.0</td>\n",
       "    </tr>\n",
       "    <tr>\n",
       "      <th>6</th>\n",
       "      <td>u2ctCaGhocqZCbze</td>\n",
       "      <td>229.0</td>\n",
       "    </tr>\n",
       "    <tr>\n",
       "      <th>7</th>\n",
       "      <td>6JQ9VKZy93xuqPvJ</td>\n",
       "      <td>217.0</td>\n",
       "    </tr>\n",
       "    <tr>\n",
       "      <th>8</th>\n",
       "      <td>NnztMhNd8zflcXa7</td>\n",
       "      <td>201.0</td>\n",
       "    </tr>\n",
       "    <tr>\n",
       "      <th>9</th>\n",
       "      <td>y0IE6ht1XqgjofeH</td>\n",
       "      <td>199.0</td>\n",
       "    </tr>\n",
       "    <tr>\n",
       "      <th>10</th>\n",
       "      <td>Z5cukwo6sv8fq63Z</td>\n",
       "      <td>198.0</td>\n",
       "    </tr>\n",
       "    <tr>\n",
       "      <th>11</th>\n",
       "      <td>MVCpeGBSpxawQ7Us</td>\n",
       "      <td>195.0</td>\n",
       "    </tr>\n",
       "    <tr>\n",
       "      <th>12</th>\n",
       "      <td>zdcUB14oqHSM3OfI</td>\n",
       "      <td>194.0</td>\n",
       "    </tr>\n",
       "    <tr>\n",
       "      <th>13</th>\n",
       "      <td>BuqDseVAepqQ7wMY</td>\n",
       "      <td>189.0</td>\n",
       "    </tr>\n",
       "    <tr>\n",
       "      <th>14</th>\n",
       "      <td>jaLRjIzmKAcp6G3T</td>\n",
       "      <td>186.0</td>\n",
       "    </tr>\n",
       "    <tr>\n",
       "      <th>15</th>\n",
       "      <td>88EPCDsBT3wFHNm4</td>\n",
       "      <td>180.0</td>\n",
       "    </tr>\n",
       "    <tr>\n",
       "      <th>16</th>\n",
       "      <td>0QVUCexYHdZAGPyw</td>\n",
       "      <td>178.0</td>\n",
       "    </tr>\n",
       "    <tr>\n",
       "      <th>17</th>\n",
       "      <td>bUaJWlYdvXlZFyRE</td>\n",
       "      <td>178.0</td>\n",
       "    </tr>\n",
       "    <tr>\n",
       "      <th>18</th>\n",
       "      <td>pcZCc050yHKh1MWl</td>\n",
       "      <td>178.0</td>\n",
       "    </tr>\n",
       "    <tr>\n",
       "      <th>19</th>\n",
       "      <td>JumENvZybWqrarFe</td>\n",
       "      <td>176.0</td>\n",
       "    </tr>\n",
       "  </tbody>\n",
       "</table>\n",
       "</div>"
      ],
      "text/plain": [
       "                  ID  Patients\n",
       "0   UY8bW4koFtgJI8J7    1836.0\n",
       "1   YvXc9PhW83aoHti9     821.0\n",
       "2   azXdkxORxbkUXDV0     681.0\n",
       "3   GLwAKSb708GXX52I     559.0\n",
       "4   aEkqIqMVzEB2XzDx     286.0\n",
       "5   OcwkZfEl4FaScz1p     232.0\n",
       "6   u2ctCaGhocqZCbze     229.0\n",
       "7   6JQ9VKZy93xuqPvJ     217.0\n",
       "8   NnztMhNd8zflcXa7     201.0\n",
       "9   y0IE6ht1XqgjofeH     199.0\n",
       "10  Z5cukwo6sv8fq63Z     198.0\n",
       "11  MVCpeGBSpxawQ7Us     195.0\n",
       "12  zdcUB14oqHSM3OfI     194.0\n",
       "13  BuqDseVAepqQ7wMY     189.0\n",
       "14  jaLRjIzmKAcp6G3T     186.0\n",
       "15  88EPCDsBT3wFHNm4     180.0\n",
       "16  0QVUCexYHdZAGPyw     178.0\n",
       "17  bUaJWlYdvXlZFyRE     178.0\n",
       "18  pcZCc050yHKh1MWl     178.0\n",
       "19  JumENvZybWqrarFe     176.0"
      ]
     },
     "execution_count": 15,
     "metadata": {},
     "output_type": "execute_result"
    }
   ],
   "source": [
    "adderall_patients = adderall.groupby(['ID'])['AdderallPatients'].sum().nlargest(20).reset_index(name='Patients')\n",
    "adderall_patients"
   ]
  },
  {
   "cell_type": "code",
   "execution_count": 16,
   "metadata": {},
   "outputs": [
    {
     "name": "stderr",
     "output_type": "stream",
     "text": [
      "C:\\Users\\LATHA\\Anaconda3\\lib\\site-packages\\ipykernel_launcher.py:1: FutureWarning: Method .as_matrix will be removed in a future version. Use .values instead.\n",
      "  \"\"\"Entry point for launching an IPython kernel.\n",
      "C:\\Users\\LATHA\\Anaconda3\\lib\\site-packages\\ipykernel_launcher.py:2: FutureWarning: Method .as_matrix will be removed in a future version. Use .values instead.\n",
      "  \n"
     ]
    },
    {
     "data": {
      "text/plain": [
       "Text(0, 0.5, 'Number of Patients')"
      ]
     },
     "execution_count": 16,
     "metadata": {},
     "output_type": "execute_result"
    },
    {
     "data": {
      "image/png": "[encoded data removed]",
      "text/plain": [
       "<Figure size 432x288 with 1 Axes>"
      ]
     },
     "metadata": {
      "needs_background": "light"
     },
     "output_type": "display_data"
    }
   ],
   "source": [
    "adderall_arrray = adderall_patients[[\"ID\"]].as_matrix().ravel()\n",
    "patients_array = adderall_patients[[\"Patients\"]].as_matrix().ravel()\n",
    "\n",
    "x = np.arange(adderall_patients.shape[0])\n",
    "plt.bar(x, patients_array)\n",
    "plt.xticks(x, adderall_arrray)\n",
    "plt.ylabel(\"Number of Patients\")"
   ]
  },
  {
   "cell_type": "markdown",
   "metadata": {},
   "source": [
    "Grouping antibio patients based on ID's"
   ]
  },
  {
   "cell_type": "code",
   "execution_count": 17,
   "metadata": {
    "scrolled": true
   },
   "outputs": [
    {
     "data": {
      "text/html": [
       "<div>\n",
       "<style scoped>\n",
       "    .dataframe tbody tr th:only-of-type {\n",
       "        vertical-align: middle;\n",
       "    }\n",
       "\n",
       "    .dataframe tbody tr th {\n",
       "        vertical-align: top;\n",
       "    }\n",
       "\n",
       "    .dataframe thead th {\n",
       "        text-align: right;\n",
       "    }\n",
       "</style>\n",
       "<table border=\"1\" class=\"dataframe\">\n",
       "  <thead>\n",
       "    <tr style=\"text-align: right;\">\n",
       "      <th></th>\n",
       "      <th>ID</th>\n",
       "      <th>Patients</th>\n",
       "    </tr>\n",
       "  </thead>\n",
       "  <tbody>\n",
       "    <tr>\n",
       "      <th>0</th>\n",
       "      <td>SJlGhqeQDTo28ttx</td>\n",
       "      <td>497.0</td>\n",
       "    </tr>\n",
       "    <tr>\n",
       "      <th>1</th>\n",
       "      <td>OirE7wthQMEkw4Dr</td>\n",
       "      <td>488.0</td>\n",
       "    </tr>\n",
       "    <tr>\n",
       "      <th>2</th>\n",
       "      <td>9sZ6ah4BSxbRnpOb</td>\n",
       "      <td>453.0</td>\n",
       "    </tr>\n",
       "    <tr>\n",
       "      <th>3</th>\n",
       "      <td>OE5UJ9xLVsc1y6wN</td>\n",
       "      <td>449.0</td>\n",
       "    </tr>\n",
       "    <tr>\n",
       "      <th>4</th>\n",
       "      <td>8kBtM1F3WG4rxpn0</td>\n",
       "      <td>426.0</td>\n",
       "    </tr>\n",
       "    <tr>\n",
       "      <th>5</th>\n",
       "      <td>JUhcn5KRUiuAbFLc</td>\n",
       "      <td>426.0</td>\n",
       "    </tr>\n",
       "    <tr>\n",
       "      <th>6</th>\n",
       "      <td>MVCpeGBSpxawQ7Us</td>\n",
       "      <td>422.0</td>\n",
       "    </tr>\n",
       "    <tr>\n",
       "      <th>7</th>\n",
       "      <td>h1ueKCmktQjhinaB</td>\n",
       "      <td>415.0</td>\n",
       "    </tr>\n",
       "    <tr>\n",
       "      <th>8</th>\n",
       "      <td>CzrMVSWxcxAKcEJn</td>\n",
       "      <td>403.0</td>\n",
       "    </tr>\n",
       "    <tr>\n",
       "      <th>9</th>\n",
       "      <td>tZD0qha00g7pSzOY</td>\n",
       "      <td>401.0</td>\n",
       "    </tr>\n",
       "    <tr>\n",
       "      <th>10</th>\n",
       "      <td>NnztMhNd8zflcXa7</td>\n",
       "      <td>397.0</td>\n",
       "    </tr>\n",
       "    <tr>\n",
       "      <th>11</th>\n",
       "      <td>mMcotixp0Rildy7O</td>\n",
       "      <td>394.0</td>\n",
       "    </tr>\n",
       "    <tr>\n",
       "      <th>12</th>\n",
       "      <td>vpCnisj3JeENWpeT</td>\n",
       "      <td>394.0</td>\n",
       "    </tr>\n",
       "    <tr>\n",
       "      <th>13</th>\n",
       "      <td>IIaL2mQHm9C7Js4d</td>\n",
       "      <td>393.0</td>\n",
       "    </tr>\n",
       "    <tr>\n",
       "      <th>14</th>\n",
       "      <td>fkU12JE8IGKe8wOH</td>\n",
       "      <td>393.0</td>\n",
       "    </tr>\n",
       "    <tr>\n",
       "      <th>15</th>\n",
       "      <td>jbmJHyN9VRAbi5ek</td>\n",
       "      <td>391.0</td>\n",
       "    </tr>\n",
       "    <tr>\n",
       "      <th>16</th>\n",
       "      <td>K5gP58lAnD36yCQh</td>\n",
       "      <td>385.0</td>\n",
       "    </tr>\n",
       "    <tr>\n",
       "      <th>17</th>\n",
       "      <td>5ZGDDmiYm4gSuUyc</td>\n",
       "      <td>381.0</td>\n",
       "    </tr>\n",
       "    <tr>\n",
       "      <th>18</th>\n",
       "      <td>dWqIlg11Miy5lR6C</td>\n",
       "      <td>380.0</td>\n",
       "    </tr>\n",
       "    <tr>\n",
       "      <th>19</th>\n",
       "      <td>51GTRjDvAHELx9rG</td>\n",
       "      <td>377.0</td>\n",
       "    </tr>\n",
       "  </tbody>\n",
       "</table>\n",
       "</div>"
      ],
      "text/plain": [
       "                  ID  Patients\n",
       "0   SJlGhqeQDTo28ttx     497.0\n",
       "1   OirE7wthQMEkw4Dr     488.0\n",
       "2   9sZ6ah4BSxbRnpOb     453.0\n",
       "3   OE5UJ9xLVsc1y6wN     449.0\n",
       "4   8kBtM1F3WG4rxpn0     426.0\n",
       "5   JUhcn5KRUiuAbFLc     426.0\n",
       "6   MVCpeGBSpxawQ7Us     422.0\n",
       "7   h1ueKCmktQjhinaB     415.0\n",
       "8   CzrMVSWxcxAKcEJn     403.0\n",
       "9   tZD0qha00g7pSzOY     401.0\n",
       "10  NnztMhNd8zflcXa7     397.0\n",
       "11  mMcotixp0Rildy7O     394.0\n",
       "12  vpCnisj3JeENWpeT     394.0\n",
       "13  IIaL2mQHm9C7Js4d     393.0\n",
       "14  fkU12JE8IGKe8wOH     393.0\n",
       "15  jbmJHyN9VRAbi5ek     391.0\n",
       "16  K5gP58lAnD36yCQh     385.0\n",
       "17  5ZGDDmiYm4gSuUyc     381.0\n",
       "18  dWqIlg11Miy5lR6C     380.0\n",
       "19  51GTRjDvAHELx9rG     377.0"
      ]
     },
     "execution_count": 17,
     "metadata": {},
     "output_type": "execute_result"
    }
   ],
   "source": [
    "antibio_patients = antibio.groupby(['ID'])['AntibioPatients'].sum().nlargest(20).reset_index(name='Patients')\n",
    "antibio_patients"
   ]
  },
  {
   "cell_type": "code",
   "execution_count": 18,
   "metadata": {},
   "outputs": [
    {
     "name": "stderr",
     "output_type": "stream",
     "text": [
      "C:\\Users\\LATHA\\Anaconda3\\lib\\site-packages\\ipykernel_launcher.py:1: FutureWarning: Method .as_matrix will be removed in a future version. Use .values instead.\n",
      "  \"\"\"Entry point for launching an IPython kernel.\n",
      "C:\\Users\\LATHA\\Anaconda3\\lib\\site-packages\\ipykernel_launcher.py:2: FutureWarning: Method .as_matrix will be removed in a future version. Use .values instead.\n",
      "  \n"
     ]
    },
    {
     "data": {
      "text/plain": [
       "Text(0, 0.5, 'Number of Patients')"
      ]
     },
     "execution_count": 18,
     "metadata": {},
     "output_type": "execute_result"
    },
    {
     "data": {
      "image/png": "[encoded data removed]",
      "text/plain": [
       "<Figure size 432x288 with 1 Axes>"
      ]
     },
     "metadata": {
      "needs_background": "light"
     },
     "output_type": "display_data"
    }
   ],
   "source": [
    "antibio_arrray = antibio_patients[[\"ID\"]].as_matrix().ravel()\n",
    "patients_array = antibio_patients[[\"Patients\"]].as_matrix().ravel()\n",
    "\n",
    "x = np.arange(antibio_patients.shape[0])\n",
    "plt.bar(x, patients_array)\n",
    "plt.xticks(x, antibio_arrray)\n",
    "plt.ylabel(\"Number of Patients\")"
   ]
  },
  {
   "cell_type": "markdown",
   "metadata": {},
   "source": [
    "Grouping opioid patients based on ID's"
   ]
  },
  {
   "cell_type": "code",
   "execution_count": 19,
   "metadata": {
    "scrolled": true
   },
   "outputs": [
    {
     "data": {
      "text/html": [
       "<div>\n",
       "<style scoped>\n",
       "    .dataframe tbody tr th:only-of-type {\n",
       "        vertical-align: middle;\n",
       "    }\n",
       "\n",
       "    .dataframe tbody tr th {\n",
       "        vertical-align: top;\n",
       "    }\n",
       "\n",
       "    .dataframe thead th {\n",
       "        text-align: right;\n",
       "    }\n",
       "</style>\n",
       "<table border=\"1\" class=\"dataframe\">\n",
       "  <thead>\n",
       "    <tr style=\"text-align: right;\">\n",
       "      <th></th>\n",
       "      <th>ID</th>\n",
       "      <th>Patients</th>\n",
       "    </tr>\n",
       "  </thead>\n",
       "  <tbody>\n",
       "    <tr>\n",
       "      <th>0</th>\n",
       "      <td>UY8bW4koFtgJI8J7</td>\n",
       "      <td>888.0</td>\n",
       "    </tr>\n",
       "    <tr>\n",
       "      <th>1</th>\n",
       "      <td>wwyJwO6CL1dqIooh</td>\n",
       "      <td>860.0</td>\n",
       "    </tr>\n",
       "    <tr>\n",
       "      <th>2</th>\n",
       "      <td>YvXc9PhW83aoHti9</td>\n",
       "      <td>772.0</td>\n",
       "    </tr>\n",
       "    <tr>\n",
       "      <th>3</th>\n",
       "      <td>GLwAKSb708GXX52I</td>\n",
       "      <td>260.0</td>\n",
       "    </tr>\n",
       "    <tr>\n",
       "      <th>4</th>\n",
       "      <td>g1MWWW2X8tp0nBbP</td>\n",
       "      <td>125.0</td>\n",
       "    </tr>\n",
       "    <tr>\n",
       "      <th>5</th>\n",
       "      <td>eBfRcfdwezC6S3ga</td>\n",
       "      <td>98.0</td>\n",
       "    </tr>\n",
       "    <tr>\n",
       "      <th>6</th>\n",
       "      <td>VvOP57nwiHmWOUUA</td>\n",
       "      <td>96.0</td>\n",
       "    </tr>\n",
       "    <tr>\n",
       "      <th>7</th>\n",
       "      <td>kEqJsrgK934aG9eD</td>\n",
       "      <td>93.0</td>\n",
       "    </tr>\n",
       "    <tr>\n",
       "      <th>8</th>\n",
       "      <td>X5Fb6ORwf0Uc89ct</td>\n",
       "      <td>88.0</td>\n",
       "    </tr>\n",
       "    <tr>\n",
       "      <th>9</th>\n",
       "      <td>OrKo8BxiPj5wMPjD</td>\n",
       "      <td>86.0</td>\n",
       "    </tr>\n",
       "    <tr>\n",
       "      <th>10</th>\n",
       "      <td>b0TaHi5QQmlMbQQ3</td>\n",
       "      <td>86.0</td>\n",
       "    </tr>\n",
       "    <tr>\n",
       "      <th>11</th>\n",
       "      <td>uZBtDSyhm04k9dvU</td>\n",
       "      <td>83.0</td>\n",
       "    </tr>\n",
       "    <tr>\n",
       "      <th>12</th>\n",
       "      <td>K1TwjjbuBqRZ5h0d</td>\n",
       "      <td>82.0</td>\n",
       "    </tr>\n",
       "    <tr>\n",
       "      <th>13</th>\n",
       "      <td>QuTXKiXDCSHHdba1</td>\n",
       "      <td>82.0</td>\n",
       "    </tr>\n",
       "    <tr>\n",
       "      <th>14</th>\n",
       "      <td>NzsFOrC6gNb3hNPY</td>\n",
       "      <td>80.0</td>\n",
       "    </tr>\n",
       "    <tr>\n",
       "      <th>15</th>\n",
       "      <td>SjRUfP9gufBFY2so</td>\n",
       "      <td>75.0</td>\n",
       "    </tr>\n",
       "    <tr>\n",
       "      <th>16</th>\n",
       "      <td>zVmY7GCJxZpHbAWA</td>\n",
       "      <td>75.0</td>\n",
       "    </tr>\n",
       "    <tr>\n",
       "      <th>17</th>\n",
       "      <td>ON9ha3vbVAD3fBg5</td>\n",
       "      <td>71.0</td>\n",
       "    </tr>\n",
       "    <tr>\n",
       "      <th>18</th>\n",
       "      <td>WiUGAznSeq6eNc6n</td>\n",
       "      <td>71.0</td>\n",
       "    </tr>\n",
       "    <tr>\n",
       "      <th>19</th>\n",
       "      <td>3ukKilo8dI84fZTU</td>\n",
       "      <td>70.0</td>\n",
       "    </tr>\n",
       "  </tbody>\n",
       "</table>\n",
       "</div>"
      ],
      "text/plain": [
       "                  ID  Patients\n",
       "0   UY8bW4koFtgJI8J7     888.0\n",
       "1   wwyJwO6CL1dqIooh     860.0\n",
       "2   YvXc9PhW83aoHti9     772.0\n",
       "3   GLwAKSb708GXX52I     260.0\n",
       "4   g1MWWW2X8tp0nBbP     125.0\n",
       "5   eBfRcfdwezC6S3ga      98.0\n",
       "6   VvOP57nwiHmWOUUA      96.0\n",
       "7   kEqJsrgK934aG9eD      93.0\n",
       "8   X5Fb6ORwf0Uc89ct      88.0\n",
       "9   OrKo8BxiPj5wMPjD      86.0\n",
       "10  b0TaHi5QQmlMbQQ3      86.0\n",
       "11  uZBtDSyhm04k9dvU      83.0\n",
       "12  K1TwjjbuBqRZ5h0d      82.0\n",
       "13  QuTXKiXDCSHHdba1      82.0\n",
       "14  NzsFOrC6gNb3hNPY      80.0\n",
       "15  SjRUfP9gufBFY2so      75.0\n",
       "16  zVmY7GCJxZpHbAWA      75.0\n",
       "17  ON9ha3vbVAD3fBg5      71.0\n",
       "18  WiUGAznSeq6eNc6n      71.0\n",
       "19  3ukKilo8dI84fZTU      70.0"
      ]
     },
     "execution_count": 19,
     "metadata": {},
     "output_type": "execute_result"
    }
   ],
   "source": [
    "opioid_patients = opioid.groupby(['ID'])['OpioidPatients'].sum().nlargest(20).reset_index(name='Patients')\n",
    "opioid_patients"
   ]
  },
  {
   "cell_type": "code",
   "execution_count": 20,
   "metadata": {
    "scrolled": true
   },
   "outputs": [
    {
     "name": "stderr",
     "output_type": "stream",
     "text": [
      "C:\\Users\\LATHA\\Anaconda3\\lib\\site-packages\\ipykernel_launcher.py:1: FutureWarning: Method .as_matrix will be removed in a future version. Use .values instead.\n",
      "  \"\"\"Entry point for launching an IPython kernel.\n",
      "C:\\Users\\LATHA\\Anaconda3\\lib\\site-packages\\ipykernel_launcher.py:2: FutureWarning: Method .as_matrix will be removed in a future version. Use .values instead.\n",
      "  \n"
     ]
    },
    {
     "data": {
      "text/plain": [
       "Text(0, 0.5, 'Number of Patients')"
      ]
     },
     "execution_count": 20,
     "metadata": {},
     "output_type": "execute_result"
    },
    {
     "data": {
      "image/png": "[encoded data removed]",
      "text/plain": [
       "<Figure size 432x288 with 1 Axes>"
      ]
     },
     "metadata": {
      "needs_background": "light"
     },
     "output_type": "display_data"
    }
   ],
   "source": [
    "opioid_arrray = opioid_patients[[\"ID\"]].as_matrix().ravel()\n",
    "patients_array = opioid_patients[[\"Patients\"]].as_matrix().ravel()\n",
    "\n",
    "x = np.arange(opioid_patients.shape[0])\n",
    "plt.bar(x, patients_array)\n",
    "plt.xticks(x, opioid_arrray)\n",
    "plt.ylabel(\"Number of Patients\")"
   ]
  },
  {
   "cell_type": "code",
   "execution_count": 21,
   "metadata": {},
   "outputs": [
    {
     "data": {
      "text/plain": [
       "<matplotlib.axes._subplots.AxesSubplot at 0x1adad3be748>"
      ]
     },
     "execution_count": 21,
     "metadata": {},
     "output_type": "execute_result"
    },
    {
     "data": {
      "image/png": "[encoded data removed]",
      "text/plain": [
       "<Figure size 432x288 with 1 Axes>"
      ]
     },
     "metadata": {
      "needs_background": "light"
     },
     "output_type": "display_data"
    }
   ],
   "source": [
    "sns.boxplot(data=data,palette='rainbow',orient='h')"
   ]
  },
  {
   "cell_type": "markdown",
   "metadata": {},
   "source": [
    "---"
   ]
  },
  {
   "cell_type": "markdown",
   "metadata": {},
   "source": [
    "Dropping all the NAN's to check which providers provided all the three drugs"
   ]
  },
  {
   "cell_type": "code",
   "execution_count": 22,
   "metadata": {
    "scrolled": true
   },
   "outputs": [
    {
     "data": {
      "text/html": [
       "<div>\n",
       "<style scoped>\n",
       "    .dataframe tbody tr th:only-of-type {\n",
       "        vertical-align: middle;\n",
       "    }\n",
       "\n",
       "    .dataframe tbody tr th {\n",
       "        vertical-align: top;\n",
       "    }\n",
       "\n",
       "    .dataframe thead th {\n",
       "        text-align: right;\n",
       "    }\n",
       "</style>\n",
       "<table border=\"1\" class=\"dataframe\">\n",
       "  <thead>\n",
       "    <tr style=\"text-align: right;\">\n",
       "      <th></th>\n",
       "      <th>ID</th>\n",
       "      <th>yrmo</th>\n",
       "      <th>AdderallPatients</th>\n",
       "      <th>AdderallPayments</th>\n",
       "      <th>AntibioPatients</th>\n",
       "      <th>AntibioPayments</th>\n",
       "      <th>OpioidPatients</th>\n",
       "      <th>OpioidPayments</th>\n",
       "    </tr>\n",
       "  </thead>\n",
       "  <tbody>\n",
       "    <tr>\n",
       "      <th>6</th>\n",
       "      <td>1wyQjXUjUljiLEyP</td>\n",
       "      <td>2015-04</td>\n",
       "      <td>1.0</td>\n",
       "      <td>1500.0</td>\n",
       "      <td>5.0</td>\n",
       "      <td>72156.0</td>\n",
       "      <td>1.0</td>\n",
       "      <td>461.0</td>\n",
       "    </tr>\n",
       "    <tr>\n",
       "      <th>7</th>\n",
       "      <td>1wyQjXUjUljiLEyP</td>\n",
       "      <td>2015-05</td>\n",
       "      <td>1.0</td>\n",
       "      <td>8.0</td>\n",
       "      <td>8.0</td>\n",
       "      <td>5089.0</td>\n",
       "      <td>1.0</td>\n",
       "      <td>37.0</td>\n",
       "    </tr>\n",
       "    <tr>\n",
       "      <th>9</th>\n",
       "      <td>1wyQjXUjUljiLEyP</td>\n",
       "      <td>2015-07</td>\n",
       "      <td>7.0</td>\n",
       "      <td>151.0</td>\n",
       "      <td>3.0</td>\n",
       "      <td>292.0</td>\n",
       "      <td>2.0</td>\n",
       "      <td>24.0</td>\n",
       "    </tr>\n",
       "    <tr>\n",
       "      <th>12</th>\n",
       "      <td>1wyQjXUjUljiLEyP</td>\n",
       "      <td>2015-10</td>\n",
       "      <td>7.0</td>\n",
       "      <td>600.0</td>\n",
       "      <td>1.0</td>\n",
       "      <td>222.0</td>\n",
       "      <td>2.0</td>\n",
       "      <td>476.0</td>\n",
       "    </tr>\n",
       "    <tr>\n",
       "      <th>20</th>\n",
       "      <td>y71QQKRICtTBXoGG</td>\n",
       "      <td>2015-07</td>\n",
       "      <td>3.0</td>\n",
       "      <td>158.0</td>\n",
       "      <td>3.0</td>\n",
       "      <td>10488.0</td>\n",
       "      <td>2.0</td>\n",
       "      <td>17.0</td>\n",
       "    </tr>\n",
       "  </tbody>\n",
       "</table>\n",
       "</div>"
      ],
      "text/plain": [
       "                  ID     yrmo  AdderallPatients  AdderallPayments  \\\n",
       "6   1wyQjXUjUljiLEyP  2015-04               1.0            1500.0   \n",
       "7   1wyQjXUjUljiLEyP  2015-05               1.0               8.0   \n",
       "9   1wyQjXUjUljiLEyP  2015-07               7.0             151.0   \n",
       "12  1wyQjXUjUljiLEyP  2015-10               7.0             600.0   \n",
       "20  y71QQKRICtTBXoGG  2015-07               3.0             158.0   \n",
       "\n",
       "    AntibioPatients  AntibioPayments  OpioidPatients  OpioidPayments  \n",
       "6               5.0          72156.0             1.0           461.0  \n",
       "7               8.0           5089.0             1.0            37.0  \n",
       "9               3.0            292.0             2.0            24.0  \n",
       "12              1.0            222.0             2.0           476.0  \n",
       "20              3.0          10488.0             2.0            17.0  "
      ]
     },
     "execution_count": 22,
     "metadata": {},
     "output_type": "execute_result"
    }
   ],
   "source": [
    "Data = data.dropna()\n",
    "Data.head()"
   ]
  },
  {
   "cell_type": "code",
   "execution_count": 23,
   "metadata": {},
   "outputs": [
    {
     "data": {
      "text/html": [
       "<div>\n",
       "<style scoped>\n",
       "    .dataframe tbody tr th:only-of-type {\n",
       "        vertical-align: middle;\n",
       "    }\n",
       "\n",
       "    .dataframe tbody tr th {\n",
       "        vertical-align: top;\n",
       "    }\n",
       "\n",
       "    .dataframe thead th {\n",
       "        text-align: right;\n",
       "    }\n",
       "</style>\n",
       "<table border=\"1\" class=\"dataframe\">\n",
       "  <thead>\n",
       "    <tr style=\"text-align: right;\">\n",
       "      <th></th>\n",
       "      <th>ID</th>\n",
       "      <th>AdderallPatients</th>\n",
       "      <th>AntibioPatients</th>\n",
       "      <th>OpioidPatients</th>\n",
       "    </tr>\n",
       "  </thead>\n",
       "  <tbody>\n",
       "    <tr>\n",
       "      <th>6</th>\n",
       "      <td>1wyQjXUjUljiLEyP</td>\n",
       "      <td>1.0</td>\n",
       "      <td>5.0</td>\n",
       "      <td>1.0</td>\n",
       "    </tr>\n",
       "    <tr>\n",
       "      <th>7</th>\n",
       "      <td>1wyQjXUjUljiLEyP</td>\n",
       "      <td>1.0</td>\n",
       "      <td>8.0</td>\n",
       "      <td>1.0</td>\n",
       "    </tr>\n",
       "    <tr>\n",
       "      <th>9</th>\n",
       "      <td>1wyQjXUjUljiLEyP</td>\n",
       "      <td>7.0</td>\n",
       "      <td>3.0</td>\n",
       "      <td>2.0</td>\n",
       "    </tr>\n",
       "    <tr>\n",
       "      <th>12</th>\n",
       "      <td>1wyQjXUjUljiLEyP</td>\n",
       "      <td>7.0</td>\n",
       "      <td>1.0</td>\n",
       "      <td>2.0</td>\n",
       "    </tr>\n",
       "    <tr>\n",
       "      <th>20</th>\n",
       "      <td>y71QQKRICtTBXoGG</td>\n",
       "      <td>3.0</td>\n",
       "      <td>3.0</td>\n",
       "      <td>2.0</td>\n",
       "    </tr>\n",
       "  </tbody>\n",
       "</table>\n",
       "</div>"
      ],
      "text/plain": [
       "                  ID  AdderallPatients  AntibioPatients  OpioidPatients\n",
       "6   1wyQjXUjUljiLEyP               1.0              5.0             1.0\n",
       "7   1wyQjXUjUljiLEyP               1.0              8.0             1.0\n",
       "9   1wyQjXUjUljiLEyP               7.0              3.0             2.0\n",
       "12  1wyQjXUjUljiLEyP               7.0              1.0             2.0\n",
       "20  y71QQKRICtTBXoGG               3.0              3.0             2.0"
      ]
     },
     "execution_count": 23,
     "metadata": {},
     "output_type": "execute_result"
    }
   ],
   "source": [
    "Data = Data.drop(['yrmo','AdderallPayments', 'AntibioPayments','OpioidPayments'], axis=1)\n",
    "Data.head()"
   ]
  },
  {
   "cell_type": "code",
   "execution_count": 24,
   "metadata": {},
   "outputs": [
    {
     "data": {
      "text/plain": [
       "ID                  7148\n",
       "AdderallPatients    7148\n",
       "AntibioPatients     7148\n",
       "OpioidPatients      7148\n",
       "dtype: int64"
      ]
     },
     "execution_count": 24,
     "metadata": {},
     "output_type": "execute_result"
    }
   ],
   "source": [
    "Data.count()"
   ]
  },
  {
   "cell_type": "code",
   "execution_count": 25,
   "metadata": {
    "scrolled": true
   },
   "outputs": [
    {
     "data": {
      "text/plain": [
       "6        False\n",
       "7        False\n",
       "9        False\n",
       "12       False\n",
       "20       False\n",
       "21       False\n",
       "23       False\n",
       "32       False\n",
       "33       False\n",
       "41       False\n",
       "43       False\n",
       "47       False\n",
       "50       False\n",
       "65       False\n",
       "72        True\n",
       "84       False\n",
       "85       False\n",
       "93       False\n",
       "100      False\n",
       "103      False\n",
       "105      False\n",
       "106      False\n",
       "123      False\n",
       "124      False\n",
       "125      False\n",
       "130      False\n",
       "137      False\n",
       "141      False\n",
       "152      False\n",
       "167      False\n",
       "         ...  \n",
       "41936    False\n",
       "41938    False\n",
       "41945    False\n",
       "41950    False\n",
       "41953    False\n",
       "41957    False\n",
       "41959    False\n",
       "41969    False\n",
       "41974    False\n",
       "41976    False\n",
       "41980    False\n",
       "41987    False\n",
       "41994    False\n",
       "42006    False\n",
       "42014    False\n",
       "42017    False\n",
       "42019    False\n",
       "42022    False\n",
       "42023    False\n",
       "42032    False\n",
       "42033    False\n",
       "42035    False\n",
       "42046    False\n",
       "42047    False\n",
       "42048    False\n",
       "42049     True\n",
       "42052    False\n",
       "42057    False\n",
       "42058    False\n",
       "42059    False\n",
       "Length: 7148, dtype: bool"
      ]
     },
     "execution_count": 25,
     "metadata": {},
     "output_type": "execute_result"
    }
   ],
   "source": [
    "Data.duplicated()"
   ]
  },
  {
   "cell_type": "code",
   "execution_count": 26,
   "metadata": {},
   "outputs": [],
   "source": [
    "#Data.plot(x=\"ID\", y=[\"AdderallPatients\", \"AntibioPatients\", \"OpioidPatients\"], kind=\"bar\")"
   ]
  },
  {
   "cell_type": "markdown",
   "metadata": {},
   "source": [
    "Conclusion: \n",
    "\n",
    "From the data we could infer that out of 42074 patients there are \n",
    "\n",
    "adderall - 23889 ~ 56% of total patients\n",
    "\n",
    "antibio - 39826 ~ 94% of total patients\n",
    "\n",
    "opioid - 12588 ~ 30% of total patients are being prescribed.\n",
    "\n",
    "Although antibio has more number of patients than adderall and opioid, antibio has uniform number of patients per provider, ~497-400 for the top 10 ID's. But data also shows that almost every person is precribed with antibio by the provider.\n",
    "\n",
    "Whereas, Adderall has a very huge range of 1836 patients by a specific ID UY8bW4koFtgJI8J7 itself. The 2nd highest was 821, by YvXc9PhW83aoHti9. And the patient count reduced gradually then on.\n",
    "\n",
    "Opioid seems to have a acceptable sales than compare to adderall and antibio.\n",
    "\n",
    "\n",
    "And, there are 7148 patients for whom all the three painkillers are being prescribed."
   ]
  }
 ],
 "metadata": {
  "kernelspec": {
   "display_name": "Python 3",
   "language": "python",
   "name": "python3"
  },
  "language_info": {
   "codemirror_mode": {
    "name": "ipython",
    "version": 3
   },
   "file_extension": ".py",
   "mimetype": "text/x-python",
   "name": "python",
   "nbconvert_exporter": "python",
   "pygments_lexer": "ipython3",
   "version": "3.7.4"
  }
 },
 "nbformat": 4,
 "nbformat_minor": 2
}
