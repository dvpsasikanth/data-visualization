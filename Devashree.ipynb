{
  "nbformat": 4,
  "nbformat_minor": 0,
  "metadata": {
    "colab": {
      "name": "Devashree.ipynb",
      "provenance": [],
      "collapsed_sections": []
    },
    "kernelspec": {
      "name": "python3",
      "display_name": "Python 3"
    }
  },
  "cells": [
    {
      "cell_type": "code",
      "metadata": {
        "id": "sOFf-LbMqSLZ"
      },
      "source": [
        "import pandas as pd\n",
        "import numpy as np\n",
        "import matplotlib.pyplot as plt\n",
        "import seaborn as sns"
      ],
      "execution_count": 1,
      "outputs": []
    },
    {
      "cell_type": "code",
      "metadata": {
        "id": "f9YSD8HpqoB-"
      },
      "source": [
        "df = pd.read_excel('RiskSpanSkillsAssessment.xlsx','Data')"
      ],
      "execution_count": 2,
      "outputs": []
    },
    {
      "cell_type": "code",
      "metadata": {
        "id": "EcV-ZE9Uq8fZ"
      },
      "source": [
        "# For creating first statistical report we need to select 'LENDER_INST_TYPE_DESCRIPTION' ,'loan_number','current_balanace'column\n",
        "inst = df[['LENDER_INST_TYPE_DESCRIPTION','LOAN_NUMBER','CURRENT_BALANCE']]"
      ],
      "execution_count": 3,
      "outputs": []
    },
    {
      "cell_type": "code",
      "metadata": {
        "colab": {
          "base_uri": "https://localhost:8080/",
          "height": 204
        },
        "id": "ifyfjAyDr2VF",
        "outputId": "198f4de4-0c76-4319-e4a4-4094c1b75b84"
      },
      "source": [
        "inst.head()"
      ],
      "execution_count": 4,
      "outputs": [
        {
          "output_type": "execute_result",
          "data": {
            "text/html": [
              "<div>\n",
              "<style scoped>\n",
              "    .dataframe tbody tr th:only-of-type {\n",
              "        vertical-align: middle;\n",
              "    }\n",
              "\n",
              "    .dataframe tbody tr th {\n",
              "        vertical-align: top;\n",
              "    }\n",
              "\n",
              "    .dataframe thead th {\n",
              "        text-align: right;\n",
              "    }\n",
              "</style>\n",
              "<table border=\"1\" class=\"dataframe\">\n",
              "  <thead>\n",
              "    <tr style=\"text-align: right;\">\n",
              "      <th></th>\n",
              "      <th>LENDER_INST_TYPE_DESCRIPTION</th>\n",
              "      <th>LOAN_NUMBER</th>\n",
              "      <th>CURRENT_BALANCE</th>\n",
              "    </tr>\n",
              "  </thead>\n",
              "  <tbody>\n",
              "    <tr>\n",
              "      <th>0</th>\n",
              "      <td>Bank Owned Mortgage Company - National</td>\n",
              "      <td>19457569</td>\n",
              "      <td>247050</td>\n",
              "    </tr>\n",
              "    <tr>\n",
              "      <th>1</th>\n",
              "      <td>Bank Owned Mortgage Company - National</td>\n",
              "      <td>16864087</td>\n",
              "      <td>119000</td>\n",
              "    </tr>\n",
              "    <tr>\n",
              "      <th>2</th>\n",
              "      <td>Mortgage Banker - Bank Owned</td>\n",
              "      <td>17137579</td>\n",
              "      <td>315000</td>\n",
              "    </tr>\n",
              "    <tr>\n",
              "      <th>3</th>\n",
              "      <td>Mortgage Banker - Bank Owned</td>\n",
              "      <td>20382551</td>\n",
              "      <td>303050</td>\n",
              "    </tr>\n",
              "    <tr>\n",
              "      <th>4</th>\n",
              "      <td>Mortgage Banker - (Large)</td>\n",
              "      <td>23078618</td>\n",
              "      <td>120000</td>\n",
              "    </tr>\n",
              "  </tbody>\n",
              "</table>\n",
              "</div>"
            ],
            "text/plain": [
              "             LENDER_INST_TYPE_DESCRIPTION  LOAN_NUMBER  CURRENT_BALANCE\n",
              "0  Bank Owned Mortgage Company - National     19457569           247050\n",
              "1  Bank Owned Mortgage Company - National     16864087           119000\n",
              "2            Mortgage Banker - Bank Owned     17137579           315000\n",
              "3            Mortgage Banker - Bank Owned     20382551           303050\n",
              "4               Mortgage Banker - (Large)     23078618           120000"
            ]
          },
          "metadata": {
            "tags": []
          },
          "execution_count": 4
        }
      ]
    },
    {
      "cell_type": "code",
      "metadata": {
        "colab": {
          "base_uri": "https://localhost:8080/"
        },
        "id": "pXpsQJq6vuLq",
        "outputId": "5d76fb7a-5ad3-43f9-ac63-b6e344dca9b1"
      },
      "source": [
        "inst.rename(columns={'LENDER_INST_TYPE_DESCRIPTION':'Institution types'},inplace=True)"
      ],
      "execution_count": 5,
      "outputs": [
        {
          "output_type": "stream",
          "text": [
            "/usr/local/lib/python3.6/dist-packages/pandas/core/frame.py:4308: SettingWithCopyWarning: \n",
            "A value is trying to be set on a copy of a slice from a DataFrame\n",
            "\n",
            "See the caveats in the documentation: https://pandas.pydata.org/pandas-docs/stable/user_guide/indexing.html#returning-a-view-versus-a-copy\n",
            "  errors=errors,\n"
          ],
          "name": "stderr"
        }
      ]
    },
    {
      "cell_type": "code",
      "metadata": {
        "colab": {
          "base_uri": "https://localhost:8080/",
          "height": 204
        },
        "id": "FuJL7ZhUwE5k",
        "outputId": "4dfcd58a-5ec0-409d-b46a-a4c8660108c6"
      },
      "source": [
        "inst.head()"
      ],
      "execution_count": 6,
      "outputs": [
        {
          "output_type": "execute_result",
          "data": {
            "text/html": [
              "<div>\n",
              "<style scoped>\n",
              "    .dataframe tbody tr th:only-of-type {\n",
              "        vertical-align: middle;\n",
              "    }\n",
              "\n",
              "    .dataframe tbody tr th {\n",
              "        vertical-align: top;\n",
              "    }\n",
              "\n",
              "    .dataframe thead th {\n",
              "        text-align: right;\n",
              "    }\n",
              "</style>\n",
              "<table border=\"1\" class=\"dataframe\">\n",
              "  <thead>\n",
              "    <tr style=\"text-align: right;\">\n",
              "      <th></th>\n",
              "      <th>Institution types</th>\n",
              "      <th>LOAN_NUMBER</th>\n",
              "      <th>CURRENT_BALANCE</th>\n",
              "    </tr>\n",
              "  </thead>\n",
              "  <tbody>\n",
              "    <tr>\n",
              "      <th>0</th>\n",
              "      <td>Bank Owned Mortgage Company - National</td>\n",
              "      <td>19457569</td>\n",
              "      <td>247050</td>\n",
              "    </tr>\n",
              "    <tr>\n",
              "      <th>1</th>\n",
              "      <td>Bank Owned Mortgage Company - National</td>\n",
              "      <td>16864087</td>\n",
              "      <td>119000</td>\n",
              "    </tr>\n",
              "    <tr>\n",
              "      <th>2</th>\n",
              "      <td>Mortgage Banker - Bank Owned</td>\n",
              "      <td>17137579</td>\n",
              "      <td>315000</td>\n",
              "    </tr>\n",
              "    <tr>\n",
              "      <th>3</th>\n",
              "      <td>Mortgage Banker - Bank Owned</td>\n",
              "      <td>20382551</td>\n",
              "      <td>303050</td>\n",
              "    </tr>\n",
              "    <tr>\n",
              "      <th>4</th>\n",
              "      <td>Mortgage Banker - (Large)</td>\n",
              "      <td>23078618</td>\n",
              "      <td>120000</td>\n",
              "    </tr>\n",
              "  </tbody>\n",
              "</table>\n",
              "</div>"
            ],
            "text/plain": [
              "                        Institution types  LOAN_NUMBER  CURRENT_BALANCE\n",
              "0  Bank Owned Mortgage Company - National     19457569           247050\n",
              "1  Bank Owned Mortgage Company - National     16864087           119000\n",
              "2            Mortgage Banker - Bank Owned     17137579           315000\n",
              "3            Mortgage Banker - Bank Owned     20382551           303050\n",
              "4               Mortgage Banker - (Large)     23078618           120000"
            ]
          },
          "metadata": {
            "tags": []
          },
          "execution_count": 6
        }
      ]
    },
    {
      "cell_type": "code",
      "metadata": {
        "id": "G6CC3OmQwKvZ"
      },
      "source": [
        "output = inst.groupby('Institution types').agg(LOAN_COUNT=('LOAN_NUMBER','nunique'),Average_current_balance=('CURRENT_BALANCE','mean'),max_current_balance=('CURRENT_BALANCE','max'),min_current_balance=('CURRENT_BALANCE','min'))"
      ],
      "execution_count": 7,
      "outputs": []
    },
    {
      "cell_type": "code",
      "metadata": {
        "id": "W6YOcm99dC0G"
      },
      "source": [
        "output.at['Total','LOAN_COUNT'] = output['LOAN_COUNT'].sum()"
      ],
      "execution_count": 8,
      "outputs": []
    },
    {
      "cell_type": "code",
      "metadata": {
        "id": "JK5Jxvg3dauo"
      },
      "source": [
        "output.at['Total','Average_current_balance'] = output['Average_current_balance'].sum()"
      ],
      "execution_count": 9,
      "outputs": []
    },
    {
      "cell_type": "code",
      "metadata": {
        "id": "UJ4XeWUCeYQe"
      },
      "source": [
        "output.at['Total','max_current_balance'] = output['max_current_balance'].sum()"
      ],
      "execution_count": 10,
      "outputs": []
    },
    {
      "cell_type": "code",
      "metadata": {
        "id": "vn-aH47ue2f_"
      },
      "source": [
        "output.at['Total','min_current_balance'] = output['min_current_balance'].sum()"
      ],
      "execution_count": 11,
      "outputs": []
    },
    {
      "cell_type": "code",
      "metadata": {
        "colab": {
          "base_uri": "https://localhost:8080/",
          "height": 266
        },
        "id": "wUPmhGnxgLVY",
        "outputId": "b068eda9-6a7f-47e5-9c5c-6e29fe5305ad"
      },
      "source": [
        "output"
      ],
      "execution_count": 12,
      "outputs": [
        {
          "output_type": "execute_result",
          "data": {
            "text/html": [
              "<div>\n",
              "<style scoped>\n",
              "    .dataframe tbody tr th:only-of-type {\n",
              "        vertical-align: middle;\n",
              "    }\n",
              "\n",
              "    .dataframe tbody tr th {\n",
              "        vertical-align: top;\n",
              "    }\n",
              "\n",
              "    .dataframe thead th {\n",
              "        text-align: right;\n",
              "    }\n",
              "</style>\n",
              "<table border=\"1\" class=\"dataframe\">\n",
              "  <thead>\n",
              "    <tr style=\"text-align: right;\">\n",
              "      <th></th>\n",
              "      <th>LOAN_COUNT</th>\n",
              "      <th>Average_current_balance</th>\n",
              "      <th>max_current_balance</th>\n",
              "      <th>min_current_balance</th>\n",
              "    </tr>\n",
              "    <tr>\n",
              "      <th>Institution types</th>\n",
              "      <th></th>\n",
              "      <th></th>\n",
              "      <th></th>\n",
              "      <th></th>\n",
              "    </tr>\n",
              "  </thead>\n",
              "  <tbody>\n",
              "    <tr>\n",
              "      <th>Bank Owned Mortgage Company - National</th>\n",
              "      <td>187.0</td>\n",
              "      <td>2.428998e+05</td>\n",
              "      <td>720000.0</td>\n",
              "      <td>43225.0</td>\n",
              "    </tr>\n",
              "    <tr>\n",
              "      <th>Community Banks</th>\n",
              "      <td>499.0</td>\n",
              "      <td>2.118400e+05</td>\n",
              "      <td>729750.0</td>\n",
              "      <td>28500.0</td>\n",
              "    </tr>\n",
              "    <tr>\n",
              "      <th>Credit Unions</th>\n",
              "      <td>374.0</td>\n",
              "      <td>1.751496e+05</td>\n",
              "      <td>578250.0</td>\n",
              "      <td>22500.0</td>\n",
              "    </tr>\n",
              "    <tr>\n",
              "      <th>Mortgage Banker - (Large)</th>\n",
              "      <td>279.0</td>\n",
              "      <td>2.603744e+05</td>\n",
              "      <td>729750.0</td>\n",
              "      <td>59000.0</td>\n",
              "    </tr>\n",
              "    <tr>\n",
              "      <th>Mortgage Banker - Bank Owned</th>\n",
              "      <td>661.0</td>\n",
              "      <td>2.362627e+05</td>\n",
              "      <td>625500.0</td>\n",
              "      <td>25018.0</td>\n",
              "    </tr>\n",
              "    <tr>\n",
              "      <th>Total</th>\n",
              "      <td>2000.0</td>\n",
              "      <td>1.126526e+06</td>\n",
              "      <td>3383250.0</td>\n",
              "      <td>178243.0</td>\n",
              "    </tr>\n",
              "  </tbody>\n",
              "</table>\n",
              "</div>"
            ],
            "text/plain": [
              "                                        LOAN_COUNT  ...  min_current_balance\n",
              "Institution types                                   ...                     \n",
              "Bank Owned Mortgage Company - National       187.0  ...              43225.0\n",
              "Community Banks                              499.0  ...              28500.0\n",
              "Credit Unions                                374.0  ...              22500.0\n",
              "Mortgage Banker - (Large)                    279.0  ...              59000.0\n",
              "Mortgage Banker - Bank Owned                 661.0  ...              25018.0\n",
              "Total                                       2000.0  ...             178243.0\n",
              "\n",
              "[6 rows x 4 columns]"
            ]
          },
          "metadata": {
            "tags": []
          },
          "execution_count": 12
        }
      ]
    },
    {
      "cell_type": "code",
      "metadata": {
        "id": "5FT1CRQ4eVZi"
      },
      "source": [
        "#output.to_csv('Report1.csv')"
      ],
      "execution_count": 13,
      "outputs": []
    },
    {
      "cell_type": "code",
      "metadata": {
        "id": "RyCrbqx5w-sp"
      },
      "source": [
        "# For creating the second Statistical report \n",
        "LTV = df[['LTV','LOAN_NUMBER','CURRENT_BALANCE']]"
      ],
      "execution_count": 14,
      "outputs": []
    },
    {
      "cell_type": "code",
      "metadata": {
        "colab": {
          "base_uri": "https://localhost:8080/",
          "height": 204
        },
        "id": "OqEw9aKZX-bU",
        "outputId": "bee3aca8-725c-4c96-8119-8591eca0379c"
      },
      "source": [
        "LTV.head()"
      ],
      "execution_count": 15,
      "outputs": [
        {
          "output_type": "execute_result",
          "data": {
            "text/html": [
              "<div>\n",
              "<style scoped>\n",
              "    .dataframe tbody tr th:only-of-type {\n",
              "        vertical-align: middle;\n",
              "    }\n",
              "\n",
              "    .dataframe tbody tr th {\n",
              "        vertical-align: top;\n",
              "    }\n",
              "\n",
              "    .dataframe thead th {\n",
              "        text-align: right;\n",
              "    }\n",
              "</style>\n",
              "<table border=\"1\" class=\"dataframe\">\n",
              "  <thead>\n",
              "    <tr style=\"text-align: right;\">\n",
              "      <th></th>\n",
              "      <th>LTV</th>\n",
              "      <th>LOAN_NUMBER</th>\n",
              "      <th>CURRENT_BALANCE</th>\n",
              "    </tr>\n",
              "  </thead>\n",
              "  <tbody>\n",
              "    <tr>\n",
              "      <th>0</th>\n",
              "      <td>90.000000</td>\n",
              "      <td>19457569</td>\n",
              "      <td>247050</td>\n",
              "    </tr>\n",
              "    <tr>\n",
              "      <th>1</th>\n",
              "      <td>85.000000</td>\n",
              "      <td>16864087</td>\n",
              "      <td>119000</td>\n",
              "    </tr>\n",
              "    <tr>\n",
              "      <th>2</th>\n",
              "      <td>90.000000</td>\n",
              "      <td>17137579</td>\n",
              "      <td>315000</td>\n",
              "    </tr>\n",
              "    <tr>\n",
              "      <th>3</th>\n",
              "      <td>95.000000</td>\n",
              "      <td>20382551</td>\n",
              "      <td>303050</td>\n",
              "    </tr>\n",
              "    <tr>\n",
              "      <th>4</th>\n",
              "      <td>84.510002</td>\n",
              "      <td>23078618</td>\n",
              "      <td>120000</td>\n",
              "    </tr>\n",
              "  </tbody>\n",
              "</table>\n",
              "</div>"
            ],
            "text/plain": [
              "         LTV  LOAN_NUMBER  CURRENT_BALANCE\n",
              "0  90.000000     19457569           247050\n",
              "1  85.000000     16864087           119000\n",
              "2  90.000000     17137579           315000\n",
              "3  95.000000     20382551           303050\n",
              "4  84.510002     23078618           120000"
            ]
          },
          "metadata": {
            "tags": []
          },
          "execution_count": 15
        }
      ]
    },
    {
      "cell_type": "code",
      "metadata": {
        "colab": {
          "base_uri": "https://localhost:8080/",
          "height": 306
        },
        "id": "UklXeeAWkUQc",
        "outputId": "f069f2d7-d0cd-440e-f2c0-faed437281e6"
      },
      "source": [
        "conditions = [\n",
        "    (LTV['LTV'] <= 85.000000),\n",
        "    (LTV['LTV'] > 85.000000) & (LTV['LTV'] <= 90.000000),\n",
        "    (LTV['LTV'] > 90.000000) & (LTV['LTV'] <= 95.000000),\n",
        "    (LTV['LTV'] > 95.000000)\n",
        "    ]\n",
        "\n",
        "# create a list of the values we want to assign for each condition\n",
        "values = ['(<=85)', '(>85 & <=90)', '(>90 & <=95)', '(>95)']\n",
        "\n",
        "# create a new column and use np.select to assign values to it using our lists as arguments\n",
        "LTV['Loan_to_value_cohorts'] = np.select(conditions, values)\n",
        "\n",
        "# display updated DataFrame\n",
        "LTV.head()"
      ],
      "execution_count": 16,
      "outputs": [
        {
          "output_type": "stream",
          "text": [
            "/usr/local/lib/python3.6/dist-packages/ipykernel_launcher.py:12: SettingWithCopyWarning: \n",
            "A value is trying to be set on a copy of a slice from a DataFrame.\n",
            "Try using .loc[row_indexer,col_indexer] = value instead\n",
            "\n",
            "See the caveats in the documentation: https://pandas.pydata.org/pandas-docs/stable/user_guide/indexing.html#returning-a-view-versus-a-copy\n",
            "  if sys.path[0] == '':\n"
          ],
          "name": "stderr"
        },
        {
          "output_type": "execute_result",
          "data": {
            "text/html": [
              "<div>\n",
              "<style scoped>\n",
              "    .dataframe tbody tr th:only-of-type {\n",
              "        vertical-align: middle;\n",
              "    }\n",
              "\n",
              "    .dataframe tbody tr th {\n",
              "        vertical-align: top;\n",
              "    }\n",
              "\n",
              "    .dataframe thead th {\n",
              "        text-align: right;\n",
              "    }\n",
              "</style>\n",
              "<table border=\"1\" class=\"dataframe\">\n",
              "  <thead>\n",
              "    <tr style=\"text-align: right;\">\n",
              "      <th></th>\n",
              "      <th>LTV</th>\n",
              "      <th>LOAN_NUMBER</th>\n",
              "      <th>CURRENT_BALANCE</th>\n",
              "      <th>Loan_to_value_cohorts</th>\n",
              "    </tr>\n",
              "  </thead>\n",
              "  <tbody>\n",
              "    <tr>\n",
              "      <th>0</th>\n",
              "      <td>90.000000</td>\n",
              "      <td>19457569</td>\n",
              "      <td>247050</td>\n",
              "      <td>(&gt;85 &amp; &lt;=90)</td>\n",
              "    </tr>\n",
              "    <tr>\n",
              "      <th>1</th>\n",
              "      <td>85.000000</td>\n",
              "      <td>16864087</td>\n",
              "      <td>119000</td>\n",
              "      <td>(&lt;=85)</td>\n",
              "    </tr>\n",
              "    <tr>\n",
              "      <th>2</th>\n",
              "      <td>90.000000</td>\n",
              "      <td>17137579</td>\n",
              "      <td>315000</td>\n",
              "      <td>(&gt;85 &amp; &lt;=90)</td>\n",
              "    </tr>\n",
              "    <tr>\n",
              "      <th>3</th>\n",
              "      <td>95.000000</td>\n",
              "      <td>20382551</td>\n",
              "      <td>303050</td>\n",
              "      <td>(&gt;90 &amp; &lt;=95)</td>\n",
              "    </tr>\n",
              "    <tr>\n",
              "      <th>4</th>\n",
              "      <td>84.510002</td>\n",
              "      <td>23078618</td>\n",
              "      <td>120000</td>\n",
              "      <td>(&lt;=85)</td>\n",
              "    </tr>\n",
              "  </tbody>\n",
              "</table>\n",
              "</div>"
            ],
            "text/plain": [
              "         LTV  LOAN_NUMBER  CURRENT_BALANCE Loan_to_value_cohorts\n",
              "0  90.000000     19457569           247050          (>85 & <=90)\n",
              "1  85.000000     16864087           119000                (<=85)\n",
              "2  90.000000     17137579           315000          (>85 & <=90)\n",
              "3  95.000000     20382551           303050          (>90 & <=95)\n",
              "4  84.510002     23078618           120000                (<=85)"
            ]
          },
          "metadata": {
            "tags": []
          },
          "execution_count": 16
        }
      ]
    },
    {
      "cell_type": "code",
      "metadata": {
        "id": "fyuiVJFGlZG0"
      },
      "source": [
        "output1 = LTV.groupby('Loan_to_value_cohorts').agg(LOAN_COUNT=('LOAN_NUMBER','nunique'),Average_current_balance=('CURRENT_BALANCE','mean'),max_current_balance=('CURRENT_BALANCE','max'),min_current_balance=('CURRENT_BALANCE','min'))"
      ],
      "execution_count": 18,
      "outputs": []
    },
    {
      "cell_type": "code",
      "metadata": {
        "colab": {
          "base_uri": "https://localhost:8080/",
          "height": 204
        },
        "id": "HKKimsu2lqim",
        "outputId": "d7e45d6b-5fa0-4b96-cb51-d109832147bc"
      },
      "source": [
        "output1"
      ],
      "execution_count": 19,
      "outputs": [
        {
          "output_type": "execute_result",
          "data": {
            "text/html": [
              "<div>\n",
              "<style scoped>\n",
              "    .dataframe tbody tr th:only-of-type {\n",
              "        vertical-align: middle;\n",
              "    }\n",
              "\n",
              "    .dataframe tbody tr th {\n",
              "        vertical-align: top;\n",
              "    }\n",
              "\n",
              "    .dataframe thead th {\n",
              "        text-align: right;\n",
              "    }\n",
              "</style>\n",
              "<table border=\"1\" class=\"dataframe\">\n",
              "  <thead>\n",
              "    <tr style=\"text-align: right;\">\n",
              "      <th></th>\n",
              "      <th>LOAN_COUNT</th>\n",
              "      <th>Average_current_balance</th>\n",
              "      <th>max_current_balance</th>\n",
              "      <th>min_current_balance</th>\n",
              "    </tr>\n",
              "    <tr>\n",
              "      <th>Loan_to_value_cohorts</th>\n",
              "      <th></th>\n",
              "      <th></th>\n",
              "      <th></th>\n",
              "      <th></th>\n",
              "    </tr>\n",
              "  </thead>\n",
              "  <tbody>\n",
              "    <tr>\n",
              "      <th>(&lt;=85)</th>\n",
              "      <td>344</td>\n",
              "      <td>223985.912791</td>\n",
              "      <td>729750</td>\n",
              "      <td>43300</td>\n",
              "    </tr>\n",
              "    <tr>\n",
              "      <th>(&gt;85 &amp; &lt;=90)</th>\n",
              "      <td>823</td>\n",
              "      <td>235966.178615</td>\n",
              "      <td>729750</td>\n",
              "      <td>22500</td>\n",
              "    </tr>\n",
              "    <tr>\n",
              "      <th>(&gt;90 &amp; &lt;=95)</th>\n",
              "      <td>796</td>\n",
              "      <td>209504.335427</td>\n",
              "      <td>561700</td>\n",
              "      <td>28500</td>\n",
              "    </tr>\n",
              "    <tr>\n",
              "      <th>(&gt;95)</th>\n",
              "      <td>37</td>\n",
              "      <td>200910.189189</td>\n",
              "      <td>371510</td>\n",
              "      <td>65475</td>\n",
              "    </tr>\n",
              "  </tbody>\n",
              "</table>\n",
              "</div>"
            ],
            "text/plain": [
              "                       LOAN_COUNT  ...  min_current_balance\n",
              "Loan_to_value_cohorts              ...                     \n",
              "(<=85)                        344  ...                43300\n",
              "(>85 & <=90)                  823  ...                22500\n",
              "(>90 & <=95)                  796  ...                28500\n",
              "(>95)                          37  ...                65475\n",
              "\n",
              "[4 rows x 4 columns]"
            ]
          },
          "metadata": {
            "tags": []
          },
          "execution_count": 19
        }
      ]
    },
    {
      "cell_type": "code",
      "metadata": {
        "id": "Nrs_CXUMlr5s"
      },
      "source": [
        "output1.at['Total','LOAN_COUNT'] = output1['LOAN_COUNT'].sum()"
      ],
      "execution_count": 20,
      "outputs": []
    },
    {
      "cell_type": "code",
      "metadata": {
        "id": "FDaaVuqPl5SF"
      },
      "source": [
        "output1.at['Total','Average_current_balance'] = output1['Average_current_balance'].sum()"
      ],
      "execution_count": 21,
      "outputs": []
    },
    {
      "cell_type": "code",
      "metadata": {
        "id": "qEA0TT1RmBrs"
      },
      "source": [
        "output1.at['Total','max_current_balance'] = output1['max_current_balance'].sum()"
      ],
      "execution_count": 22,
      "outputs": []
    },
    {
      "cell_type": "code",
      "metadata": {
        "id": "vgDtblwimQIS"
      },
      "source": [
        "output1.at['Total','min_current_balance'] = output1['min_current_balance'].sum()"
      ],
      "execution_count": 23,
      "outputs": []
    },
    {
      "cell_type": "code",
      "metadata": {
        "colab": {
          "base_uri": "https://localhost:8080/",
          "height": 235
        },
        "id": "qje5jJkumUQZ",
        "outputId": "b96bdde5-3cbb-439a-de5b-24046ebb54de"
      },
      "source": [
        "output1"
      ],
      "execution_count": 24,
      "outputs": [
        {
          "output_type": "execute_result",
          "data": {
            "text/html": [
              "<div>\n",
              "<style scoped>\n",
              "    .dataframe tbody tr th:only-of-type {\n",
              "        vertical-align: middle;\n",
              "    }\n",
              "\n",
              "    .dataframe tbody tr th {\n",
              "        vertical-align: top;\n",
              "    }\n",
              "\n",
              "    .dataframe thead th {\n",
              "        text-align: right;\n",
              "    }\n",
              "</style>\n",
              "<table border=\"1\" class=\"dataframe\">\n",
              "  <thead>\n",
              "    <tr style=\"text-align: right;\">\n",
              "      <th></th>\n",
              "      <th>LOAN_COUNT</th>\n",
              "      <th>Average_current_balance</th>\n",
              "      <th>max_current_balance</th>\n",
              "      <th>min_current_balance</th>\n",
              "    </tr>\n",
              "    <tr>\n",
              "      <th>Loan_to_value_cohorts</th>\n",
              "      <th></th>\n",
              "      <th></th>\n",
              "      <th></th>\n",
              "      <th></th>\n",
              "    </tr>\n",
              "  </thead>\n",
              "  <tbody>\n",
              "    <tr>\n",
              "      <th>(&lt;=85)</th>\n",
              "      <td>344.0</td>\n",
              "      <td>223985.912791</td>\n",
              "      <td>729750.0</td>\n",
              "      <td>43300.0</td>\n",
              "    </tr>\n",
              "    <tr>\n",
              "      <th>(&gt;85 &amp; &lt;=90)</th>\n",
              "      <td>823.0</td>\n",
              "      <td>235966.178615</td>\n",
              "      <td>729750.0</td>\n",
              "      <td>22500.0</td>\n",
              "    </tr>\n",
              "    <tr>\n",
              "      <th>(&gt;90 &amp; &lt;=95)</th>\n",
              "      <td>796.0</td>\n",
              "      <td>209504.335427</td>\n",
              "      <td>561700.0</td>\n",
              "      <td>28500.0</td>\n",
              "    </tr>\n",
              "    <tr>\n",
              "      <th>(&gt;95)</th>\n",
              "      <td>37.0</td>\n",
              "      <td>200910.189189</td>\n",
              "      <td>371510.0</td>\n",
              "      <td>65475.0</td>\n",
              "    </tr>\n",
              "    <tr>\n",
              "      <th>Total</th>\n",
              "      <td>2000.0</td>\n",
              "      <td>870366.616022</td>\n",
              "      <td>2392710.0</td>\n",
              "      <td>159775.0</td>\n",
              "    </tr>\n",
              "  </tbody>\n",
              "</table>\n",
              "</div>"
            ],
            "text/plain": [
              "                       LOAN_COUNT  ...  min_current_balance\n",
              "Loan_to_value_cohorts              ...                     \n",
              "(<=85)                      344.0  ...              43300.0\n",
              "(>85 & <=90)                823.0  ...              22500.0\n",
              "(>90 & <=95)                796.0  ...              28500.0\n",
              "(>95)                        37.0  ...              65475.0\n",
              "Total                      2000.0  ...             159775.0\n",
              "\n",
              "[5 rows x 4 columns]"
            ]
          },
          "metadata": {
            "tags": []
          },
          "execution_count": 24
        }
      ]
    },
    {
      "cell_type": "code",
      "metadata": {
        "id": "a8hPiEYkmVa_"
      },
      "source": [
        "#output1.to_csv('Report2.csv')"
      ],
      "execution_count": 25,
      "outputs": []
    },
    {
      "cell_type": "code",
      "metadata": {
        "id": "GD8Mr-pNocrR"
      },
      "source": [
        "# Statistical report 3\n",
        "\n",
        "LAC = df[['START_DATE','LOAN_ORIG_DATE','LOAN_NUMBER','CURRENT_BALANCE']]"
      ],
      "execution_count": 26,
      "outputs": []
    },
    {
      "cell_type": "code",
      "metadata": {
        "colab": {
          "base_uri": "https://localhost:8080/",
          "height": 204
        },
        "id": "ZPlduBVuo2Ie",
        "outputId": "4e615743-30c4-470a-896e-78cface720b8"
      },
      "source": [
        "LAC.head()"
      ],
      "execution_count": 27,
      "outputs": [
        {
          "output_type": "execute_result",
          "data": {
            "text/html": [
              "<div>\n",
              "<style scoped>\n",
              "    .dataframe tbody tr th:only-of-type {\n",
              "        vertical-align: middle;\n",
              "    }\n",
              "\n",
              "    .dataframe tbody tr th {\n",
              "        vertical-align: top;\n",
              "    }\n",
              "\n",
              "    .dataframe thead th {\n",
              "        text-align: right;\n",
              "    }\n",
              "</style>\n",
              "<table border=\"1\" class=\"dataframe\">\n",
              "  <thead>\n",
              "    <tr style=\"text-align: right;\">\n",
              "      <th></th>\n",
              "      <th>START_DATE</th>\n",
              "      <th>LOAN_ORIG_DATE</th>\n",
              "      <th>LOAN_NUMBER</th>\n",
              "      <th>CURRENT_BALANCE</th>\n",
              "    </tr>\n",
              "  </thead>\n",
              "  <tbody>\n",
              "    <tr>\n",
              "      <th>0</th>\n",
              "      <td>2013-06-01</td>\n",
              "      <td>2010-08-24</td>\n",
              "      <td>19457569</td>\n",
              "      <td>247050</td>\n",
              "    </tr>\n",
              "    <tr>\n",
              "      <th>1</th>\n",
              "      <td>2013-06-01</td>\n",
              "      <td>2011-10-26</td>\n",
              "      <td>16864087</td>\n",
              "      <td>119000</td>\n",
              "    </tr>\n",
              "    <tr>\n",
              "      <th>2</th>\n",
              "      <td>2013-06-01</td>\n",
              "      <td>2012-04-30</td>\n",
              "      <td>17137579</td>\n",
              "      <td>315000</td>\n",
              "    </tr>\n",
              "    <tr>\n",
              "      <th>3</th>\n",
              "      <td>2013-06-01</td>\n",
              "      <td>2012-07-18</td>\n",
              "      <td>20382551</td>\n",
              "      <td>303050</td>\n",
              "    </tr>\n",
              "    <tr>\n",
              "      <th>4</th>\n",
              "      <td>2013-06-01</td>\n",
              "      <td>2012-05-15</td>\n",
              "      <td>23078618</td>\n",
              "      <td>120000</td>\n",
              "    </tr>\n",
              "  </tbody>\n",
              "</table>\n",
              "</div>"
            ],
            "text/plain": [
              "  START_DATE LOAN_ORIG_DATE  LOAN_NUMBER  CURRENT_BALANCE\n",
              "0 2013-06-01     2010-08-24     19457569           247050\n",
              "1 2013-06-01     2011-10-26     16864087           119000\n",
              "2 2013-06-01     2012-04-30     17137579           315000\n",
              "3 2013-06-01     2012-07-18     20382551           303050\n",
              "4 2013-06-01     2012-05-15     23078618           120000"
            ]
          },
          "metadata": {
            "tags": []
          },
          "execution_count": 27
        }
      ]
    },
    {
      "cell_type": "code",
      "metadata": {
        "colab": {
          "base_uri": "https://localhost:8080/"
        },
        "id": "yiGXeR92o6bQ",
        "outputId": "c8cdcbf0-2d94-4d95-b5b5-4aee8e6e7807"
      },
      "source": [
        "LAC['difference'] = LAC['START_DATE']-LAC['LOAN_ORIG_DATE']\n",
        "LAC['difference'] = LAC['difference']/np.timedelta64(1,'M')"
      ],
      "execution_count": 28,
      "outputs": [
        {
          "output_type": "stream",
          "text": [
            "/usr/local/lib/python3.6/dist-packages/ipykernel_launcher.py:1: SettingWithCopyWarning: \n",
            "A value is trying to be set on a copy of a slice from a DataFrame.\n",
            "Try using .loc[row_indexer,col_indexer] = value instead\n",
            "\n",
            "See the caveats in the documentation: https://pandas.pydata.org/pandas-docs/stable/user_guide/indexing.html#returning-a-view-versus-a-copy\n",
            "  \"\"\"Entry point for launching an IPython kernel.\n",
            "/usr/local/lib/python3.6/dist-packages/ipykernel_launcher.py:2: SettingWithCopyWarning: \n",
            "A value is trying to be set on a copy of a slice from a DataFrame.\n",
            "Try using .loc[row_indexer,col_indexer] = value instead\n",
            "\n",
            "See the caveats in the documentation: https://pandas.pydata.org/pandas-docs/stable/user_guide/indexing.html#returning-a-view-versus-a-copy\n",
            "  \n"
          ],
          "name": "stderr"
        }
      ]
    },
    {
      "cell_type": "code",
      "metadata": {
        "colab": {
          "base_uri": "https://localhost:8080/"
        },
        "id": "7SKaRIBM4ON_",
        "outputId": "0feb629b-10ad-4498-c2ef-91ff7dd46413"
      },
      "source": [
        "LAC['difference']=LAC['difference'].round()"
      ],
      "execution_count": 29,
      "outputs": [
        {
          "output_type": "stream",
          "text": [
            "/usr/local/lib/python3.6/dist-packages/ipykernel_launcher.py:1: SettingWithCopyWarning: \n",
            "A value is trying to be set on a copy of a slice from a DataFrame.\n",
            "Try using .loc[row_indexer,col_indexer] = value instead\n",
            "\n",
            "See the caveats in the documentation: https://pandas.pydata.org/pandas-docs/stable/user_guide/indexing.html#returning-a-view-versus-a-copy\n",
            "  \"\"\"Entry point for launching an IPython kernel.\n"
          ],
          "name": "stderr"
        }
      ]
    },
    {
      "cell_type": "code",
      "metadata": {
        "colab": {
          "base_uri": "https://localhost:8080/",
          "height": 306
        },
        "id": "YCWcOwoYpFKe",
        "outputId": "ed28e292-9fc0-412a-8072-ad020cb3c194"
      },
      "source": [
        "# They wont be case unknown because we are giving a conditon >=40 where all the remaining values assigned to >=40 months\n",
        "conditions = [\n",
        "              (LAC['difference'] !=0.0 ) & (LAC['difference'] <=0.0),\n",
        "    \n",
        "    (LAC['difference'] >= 0.0) & (LAC['difference'] <=9.0),\n",
        "    (LAC['difference'] >= 10.0) & (LAC['difference'] <= 19.0),\n",
        "    (LAC['difference'] >= 20.0) & (LAC['difference'] <= 29.0),\n",
        "    (LAC['difference'] >= 30.0) & (LAC['difference'] <= 39.0),\n",
        "    (LAC['difference'] >=40.0)\n",
        "    ]\n",
        "\n",
        "# create a list of the values we want to assign for each condition\n",
        "values = ['unknown','0-9 months', '10-19 months', '20-29 months','30-39 months','>=40 months']\n",
        "\n",
        "# create a new column and use np.select to assign values to it using our lists as arguments\n",
        "LAC['loan_age_cohorts'] = np.select(conditions, values)\n",
        "\n",
        "# display updated DataFrame\n",
        "LAC.head()"
      ],
      "execution_count": 30,
      "outputs": [
        {
          "output_type": "stream",
          "text": [
            "/usr/local/lib/python3.6/dist-packages/ipykernel_launcher.py:16: SettingWithCopyWarning: \n",
            "A value is trying to be set on a copy of a slice from a DataFrame.\n",
            "Try using .loc[row_indexer,col_indexer] = value instead\n",
            "\n",
            "See the caveats in the documentation: https://pandas.pydata.org/pandas-docs/stable/user_guide/indexing.html#returning-a-view-versus-a-copy\n",
            "  app.launch_new_instance()\n"
          ],
          "name": "stderr"
        },
        {
          "output_type": "execute_result",
          "data": {
            "text/html": [
              "<div>\n",
              "<style scoped>\n",
              "    .dataframe tbody tr th:only-of-type {\n",
              "        vertical-align: middle;\n",
              "    }\n",
              "\n",
              "    .dataframe tbody tr th {\n",
              "        vertical-align: top;\n",
              "    }\n",
              "\n",
              "    .dataframe thead th {\n",
              "        text-align: right;\n",
              "    }\n",
              "</style>\n",
              "<table border=\"1\" class=\"dataframe\">\n",
              "  <thead>\n",
              "    <tr style=\"text-align: right;\">\n",
              "      <th></th>\n",
              "      <th>START_DATE</th>\n",
              "      <th>LOAN_ORIG_DATE</th>\n",
              "      <th>LOAN_NUMBER</th>\n",
              "      <th>CURRENT_BALANCE</th>\n",
              "      <th>difference</th>\n",
              "      <th>loan_age_cohorts</th>\n",
              "    </tr>\n",
              "  </thead>\n",
              "  <tbody>\n",
              "    <tr>\n",
              "      <th>0</th>\n",
              "      <td>2013-06-01</td>\n",
              "      <td>2010-08-24</td>\n",
              "      <td>19457569</td>\n",
              "      <td>247050</td>\n",
              "      <td>33.0</td>\n",
              "      <td>30-39 months</td>\n",
              "    </tr>\n",
              "    <tr>\n",
              "      <th>1</th>\n",
              "      <td>2013-06-01</td>\n",
              "      <td>2011-10-26</td>\n",
              "      <td>16864087</td>\n",
              "      <td>119000</td>\n",
              "      <td>19.0</td>\n",
              "      <td>10-19 months</td>\n",
              "    </tr>\n",
              "    <tr>\n",
              "      <th>2</th>\n",
              "      <td>2013-06-01</td>\n",
              "      <td>2012-04-30</td>\n",
              "      <td>17137579</td>\n",
              "      <td>315000</td>\n",
              "      <td>13.0</td>\n",
              "      <td>10-19 months</td>\n",
              "    </tr>\n",
              "    <tr>\n",
              "      <th>3</th>\n",
              "      <td>2013-06-01</td>\n",
              "      <td>2012-07-18</td>\n",
              "      <td>20382551</td>\n",
              "      <td>303050</td>\n",
              "      <td>10.0</td>\n",
              "      <td>10-19 months</td>\n",
              "    </tr>\n",
              "    <tr>\n",
              "      <th>4</th>\n",
              "      <td>2013-06-01</td>\n",
              "      <td>2012-05-15</td>\n",
              "      <td>23078618</td>\n",
              "      <td>120000</td>\n",
              "      <td>13.0</td>\n",
              "      <td>10-19 months</td>\n",
              "    </tr>\n",
              "  </tbody>\n",
              "</table>\n",
              "</div>"
            ],
            "text/plain": [
              "  START_DATE LOAN_ORIG_DATE  ...  difference  loan_age_cohorts\n",
              "0 2013-06-01     2010-08-24  ...        33.0      30-39 months\n",
              "1 2013-06-01     2011-10-26  ...        19.0      10-19 months\n",
              "2 2013-06-01     2012-04-30  ...        13.0      10-19 months\n",
              "3 2013-06-01     2012-07-18  ...        10.0      10-19 months\n",
              "4 2013-06-01     2012-05-15  ...        13.0      10-19 months\n",
              "\n",
              "[5 rows x 6 columns]"
            ]
          },
          "metadata": {
            "tags": []
          },
          "execution_count": 30
        }
      ]
    },
    {
      "cell_type": "code",
      "metadata": {
        "id": "zQ04N2fbvvc5"
      },
      "source": [
        "output2 = LAC.groupby('loan_age_cohorts').agg(LOAN_COUNT=('LOAN_NUMBER','nunique'),Average_current_balance=('CURRENT_BALANCE','mean'),max_current_balance=('CURRENT_BALANCE','max'),min_current_balance=('CURRENT_BALANCE','min'))"
      ],
      "execution_count": 31,
      "outputs": []
    },
    {
      "cell_type": "code",
      "metadata": {
        "colab": {
          "base_uri": "https://localhost:8080/",
          "height": 235
        },
        "id": "ZUq3DkL-3Dje",
        "outputId": "26846ae7-4f5c-4591-f14e-790297af3309"
      },
      "source": [
        "output2.head()"
      ],
      "execution_count": 32,
      "outputs": [
        {
          "output_type": "execute_result",
          "data": {
            "text/html": [
              "<div>\n",
              "<style scoped>\n",
              "    .dataframe tbody tr th:only-of-type {\n",
              "        vertical-align: middle;\n",
              "    }\n",
              "\n",
              "    .dataframe tbody tr th {\n",
              "        vertical-align: top;\n",
              "    }\n",
              "\n",
              "    .dataframe thead th {\n",
              "        text-align: right;\n",
              "    }\n",
              "</style>\n",
              "<table border=\"1\" class=\"dataframe\">\n",
              "  <thead>\n",
              "    <tr style=\"text-align: right;\">\n",
              "      <th></th>\n",
              "      <th>LOAN_COUNT</th>\n",
              "      <th>Average_current_balance</th>\n",
              "      <th>max_current_balance</th>\n",
              "      <th>min_current_balance</th>\n",
              "    </tr>\n",
              "    <tr>\n",
              "      <th>loan_age_cohorts</th>\n",
              "      <th></th>\n",
              "      <th></th>\n",
              "      <th></th>\n",
              "      <th></th>\n",
              "    </tr>\n",
              "  </thead>\n",
              "  <tbody>\n",
              "    <tr>\n",
              "      <th>0</th>\n",
              "      <td>16</td>\n",
              "      <td>256425.312500</td>\n",
              "      <td>404700</td>\n",
              "      <td>88065</td>\n",
              "    </tr>\n",
              "    <tr>\n",
              "      <th>0-9 months</th>\n",
              "      <td>286</td>\n",
              "      <td>232426.080420</td>\n",
              "      <td>562500</td>\n",
              "      <td>45000</td>\n",
              "    </tr>\n",
              "    <tr>\n",
              "      <th>10-19 months</th>\n",
              "      <td>738</td>\n",
              "      <td>230096.983740</td>\n",
              "      <td>720000</td>\n",
              "      <td>25018</td>\n",
              "    </tr>\n",
              "    <tr>\n",
              "      <th>20-29 months</th>\n",
              "      <td>535</td>\n",
              "      <td>212730.575701</td>\n",
              "      <td>729750</td>\n",
              "      <td>22500</td>\n",
              "    </tr>\n",
              "    <tr>\n",
              "      <th>30-39 months</th>\n",
              "      <td>253</td>\n",
              "      <td>206465.656126</td>\n",
              "      <td>546376</td>\n",
              "      <td>41705</td>\n",
              "    </tr>\n",
              "  </tbody>\n",
              "</table>\n",
              "</div>"
            ],
            "text/plain": [
              "                  LOAN_COUNT  ...  min_current_balance\n",
              "loan_age_cohorts              ...                     \n",
              "0                         16  ...                88065\n",
              "0-9 months               286  ...                45000\n",
              "10-19 months             738  ...                25018\n",
              "20-29 months             535  ...                22500\n",
              "30-39 months             253  ...                41705\n",
              "\n",
              "[5 rows x 4 columns]"
            ]
          },
          "metadata": {
            "tags": []
          },
          "execution_count": 32
        }
      ]
    },
    {
      "cell_type": "code",
      "metadata": {
        "id": "GhgIjrYf2wEM"
      },
      "source": [
        "output2.at['Total','LOAN_COUNT'] = output2['LOAN_COUNT'].sum()"
      ],
      "execution_count": 33,
      "outputs": []
    },
    {
      "cell_type": "code",
      "metadata": {
        "id": "9M6pJx2s2-Sp"
      },
      "source": [
        "output2.at['Total','Average_current_balance'] = output2['Average_current_balance'].sum()"
      ],
      "execution_count": 34,
      "outputs": []
    },
    {
      "cell_type": "code",
      "metadata": {
        "id": "UHZoQTsG3R1L"
      },
      "source": [
        "output2.at['Total','max_current_balance'] = output2['max_current_balance'].sum()"
      ],
      "execution_count": 35,
      "outputs": []
    },
    {
      "cell_type": "code",
      "metadata": {
        "id": "fBnjdKD43YiZ"
      },
      "source": [
        "\n",
        "output2.at['Total','min_current_balance'] = output2['min_current_balance'].sum()"
      ],
      "execution_count": 36,
      "outputs": []
    },
    {
      "cell_type": "code",
      "metadata": {
        "colab": {
          "base_uri": "https://localhost:8080/",
          "height": 297
        },
        "id": "QiiVTdue3gPm",
        "outputId": "3d04b396-f7e5-4527-eaf8-743f8502b795"
      },
      "source": [
        "output2"
      ],
      "execution_count": 37,
      "outputs": [
        {
          "output_type": "execute_result",
          "data": {
            "text/html": [
              "<div>\n",
              "<style scoped>\n",
              "    .dataframe tbody tr th:only-of-type {\n",
              "        vertical-align: middle;\n",
              "    }\n",
              "\n",
              "    .dataframe tbody tr th {\n",
              "        vertical-align: top;\n",
              "    }\n",
              "\n",
              "    .dataframe thead th {\n",
              "        text-align: right;\n",
              "    }\n",
              "</style>\n",
              "<table border=\"1\" class=\"dataframe\">\n",
              "  <thead>\n",
              "    <tr style=\"text-align: right;\">\n",
              "      <th></th>\n",
              "      <th>LOAN_COUNT</th>\n",
              "      <th>Average_current_balance</th>\n",
              "      <th>max_current_balance</th>\n",
              "      <th>min_current_balance</th>\n",
              "    </tr>\n",
              "    <tr>\n",
              "      <th>loan_age_cohorts</th>\n",
              "      <th></th>\n",
              "      <th></th>\n",
              "      <th></th>\n",
              "      <th></th>\n",
              "    </tr>\n",
              "  </thead>\n",
              "  <tbody>\n",
              "    <tr>\n",
              "      <th>0</th>\n",
              "      <td>16.0</td>\n",
              "      <td>2.564253e+05</td>\n",
              "      <td>404700.0</td>\n",
              "      <td>88065.0</td>\n",
              "    </tr>\n",
              "    <tr>\n",
              "      <th>0-9 months</th>\n",
              "      <td>286.0</td>\n",
              "      <td>2.324261e+05</td>\n",
              "      <td>562500.0</td>\n",
              "      <td>45000.0</td>\n",
              "    </tr>\n",
              "    <tr>\n",
              "      <th>10-19 months</th>\n",
              "      <td>738.0</td>\n",
              "      <td>2.300970e+05</td>\n",
              "      <td>720000.0</td>\n",
              "      <td>25018.0</td>\n",
              "    </tr>\n",
              "    <tr>\n",
              "      <th>20-29 months</th>\n",
              "      <td>535.0</td>\n",
              "      <td>2.127306e+05</td>\n",
              "      <td>729750.0</td>\n",
              "      <td>22500.0</td>\n",
              "    </tr>\n",
              "    <tr>\n",
              "      <th>30-39 months</th>\n",
              "      <td>253.0</td>\n",
              "      <td>2.064657e+05</td>\n",
              "      <td>546376.0</td>\n",
              "      <td>41705.0</td>\n",
              "    </tr>\n",
              "    <tr>\n",
              "      <th>&gt;=40 months</th>\n",
              "      <td>172.0</td>\n",
              "      <td>2.268345e+05</td>\n",
              "      <td>729750.0</td>\n",
              "      <td>35000.0</td>\n",
              "    </tr>\n",
              "    <tr>\n",
              "      <th>Total</th>\n",
              "      <td>2000.0</td>\n",
              "      <td>1.364979e+06</td>\n",
              "      <td>3693076.0</td>\n",
              "      <td>257288.0</td>\n",
              "    </tr>\n",
              "  </tbody>\n",
              "</table>\n",
              "</div>"
            ],
            "text/plain": [
              "                  LOAN_COUNT  ...  min_current_balance\n",
              "loan_age_cohorts              ...                     \n",
              "0                       16.0  ...              88065.0\n",
              "0-9 months             286.0  ...              45000.0\n",
              "10-19 months           738.0  ...              25018.0\n",
              "20-29 months           535.0  ...              22500.0\n",
              "30-39 months           253.0  ...              41705.0\n",
              ">=40 months            172.0  ...              35000.0\n",
              "Total                 2000.0  ...             257288.0\n",
              "\n",
              "[7 rows x 4 columns]"
            ]
          },
          "metadata": {
            "tags": []
          },
          "execution_count": 37
        }
      ]
    },
    {
      "cell_type": "code",
      "metadata": {
        "id": "j3jPfPHH3i8q"
      },
      "source": [
        "output2.to_csv('Report3.csv')"
      ],
      "execution_count": 39,
      "outputs": []
    },
    {
      "cell_type": "code",
      "metadata": {
        "id": "Smhm4XrQ4XuF"
      },
      "source": [
        ""
      ],
      "execution_count": null,
      "outputs": []
    }
  ]
}