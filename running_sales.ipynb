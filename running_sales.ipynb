{
 "cells": [
  {
   "cell_type": "code",
   "execution_count": 1,
   "metadata": {},
   "outputs": [],
   "source": [
    "import numpy as np\n",
    "import pandas as pd\n",
    "import os"
   ]
  },
  {
   "cell_type": "markdown",
   "metadata": {},
   "source": [
    "### loading category_sales table"
   ]
  },
  {
   "cell_type": "code",
   "execution_count": 2,
   "metadata": {},
   "outputs": [],
   "source": [
    "data = pd.read_csv(r'C:\\\\Users\\\\vdaliparthy\\\\Downloads\\\\practice_problem\\\\practice_problem_Fall_2019\\\\category_sales.csv')"
   ]
  },
  {
   "cell_type": "code",
   "execution_count": 3,
   "metadata": {},
   "outputs": [
    {
     "name": "stdout",
     "output_type": "stream",
     "text": [
      "<class 'pandas.core.frame.DataFrame'>\n",
      "RangeIndex: 1440 entries, 0 to 1439\n",
      "Data columns (total 9 columns):\n",
      "str_id              1440 non-null int64\n",
      "month_key           1440 non-null int64\n",
      "running_sales       1416 non-null float64\n",
      "sportswear_sales    1440 non-null float64\n",
      "training_sales      1440 non-null float64\n",
      "bball_sales         1440 non-null float64\n",
      "tennis_sales        1440 non-null float64\n",
      "skate_sales         1440 non-null float64\n",
      "cleate_sales        1440 non-null float64\n",
      "dtypes: float64(7), int64(2)\n",
      "memory usage: 101.4 KB\n"
     ]
    }
   ],
   "source": [
    "data.info()\n"
   ]
  },
  {
   "cell_type": "markdown",
   "metadata": {},
   "source": [
    "### finding out whether null values exist in the column or not"
   ]
  },
  {
   "cell_type": "code",
   "execution_count": 4,
   "metadata": {},
   "outputs": [
    {
     "data": {
      "text/plain": [
       "True"
      ]
     },
     "execution_count": 4,
     "metadata": {},
     "output_type": "execute_result"
    }
   ],
   "source": [
    "pd.isnull(sum(data['running_sales']))"
   ]
  },
  {
   "cell_type": "markdown",
   "metadata": {},
   "source": [
    "### filling the null values based on the str_id using mean and groupby condition"
   ]
  },
  {
   "cell_type": "code",
   "execution_count": 5,
   "metadata": {},
   "outputs": [],
   "source": [
    "data['running_sales'] = data['running_sales'].fillna(data.groupby('str_id')['running_sales'].transform('mean'))\n"
   ]
  },
  {
   "cell_type": "code",
   "execution_count": 6,
   "metadata": {},
   "outputs": [
    {
     "data": {
      "text/plain": [
       "False"
      ]
     },
     "execution_count": 6,
     "metadata": {},
     "output_type": "execute_result"
    }
   ],
   "source": [
    "pd.isnull(sum(data['running_sales']))"
   ]
  },
  {
   "cell_type": "code",
   "execution_count": 7,
   "metadata": {},
   "outputs": [
    {
     "name": "stdout",
     "output_type": "stream",
     "text": [
      "0       500988.54340\n",
      "1       802806.06890\n",
      "2       795011.77030\n",
      "3       642108.00860\n",
      "4       460465.44510\n",
      "            ...     \n",
      "1435     55595.87159\n",
      "1436     64041.38862\n",
      "1437    114249.21983\n",
      "1438    114249.21983\n",
      "1439    114249.21983\n",
      "Name: running_sales, Length: 1440, dtype: float64\n"
     ]
    }
   ],
   "source": [
    "print(data['running_sales'])"
   ]
  },
  {
   "cell_type": "code",
   "execution_count": 8,
   "metadata": {},
   "outputs": [
    {
     "data": {
      "text/html": [
       "<div>\n",
       "<style scoped>\n",
       "    .dataframe tbody tr th:only-of-type {\n",
       "        vertical-align: middle;\n",
       "    }\n",
       "\n",
       "    .dataframe tbody tr th {\n",
       "        vertical-align: top;\n",
       "    }\n",
       "\n",
       "    .dataframe thead th {\n",
       "        text-align: right;\n",
       "    }\n",
       "</style>\n",
       "<table border=\"1\" class=\"dataframe\">\n",
       "  <thead>\n",
       "    <tr style=\"text-align: right;\">\n",
       "      <th></th>\n",
       "      <th>str_id</th>\n",
       "      <th>month_key</th>\n",
       "      <th>running_sales</th>\n",
       "      <th>sportswear_sales</th>\n",
       "      <th>training_sales</th>\n",
       "      <th>bball_sales</th>\n",
       "      <th>tennis_sales</th>\n",
       "      <th>skate_sales</th>\n",
       "      <th>cleate_sales</th>\n",
       "    </tr>\n",
       "  </thead>\n",
       "  <tbody>\n",
       "    <tr>\n",
       "      <td>177</td>\n",
       "      <td>5</td>\n",
       "      <td>34</td>\n",
       "      <td>518861.962521</td>\n",
       "      <td>558792.9655</td>\n",
       "      <td>367078.9367</td>\n",
       "      <td>243815.6723</td>\n",
       "      <td>3595.315566</td>\n",
       "      <td>25357.88476</td>\n",
       "      <td>18161.59117</td>\n",
       "    </tr>\n",
       "  </tbody>\n",
       "</table>\n",
       "</div>"
      ],
      "text/plain": [
       "     str_id  month_key  running_sales  sportswear_sales  training_sales  \\\n",
       "177       5         34  518861.962521       558792.9655     367078.9367   \n",
       "\n",
       "     bball_sales  tennis_sales  skate_sales  cleate_sales  \n",
       "177  243815.6723   3595.315566  25357.88476   18161.59117  "
      ]
     },
     "execution_count": 8,
     "metadata": {},
     "output_type": "execute_result"
    }
   ],
   "source": [
    "data[177:178]"
   ]
  }
 ],
 "metadata": {
  "kernelspec": {
   "display_name": "Python 3",
   "language": "python",
   "name": "python3"
  },
  "language_info": {
   "codemirror_mode": {
    "name": "ipython",
    "version": 3
   },
   "file_extension": ".py",
   "mimetype": "text/x-python",
   "name": "python",
   "nbconvert_exporter": "python",
   "pygments_lexer": "ipython3",
   "version": "3.7.4"
  }
 },
 "nbformat": 4,
 "nbformat_minor": 2
}
