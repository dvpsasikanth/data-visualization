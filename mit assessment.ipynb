{
 "cells": [
  {
   "cell_type": "code",
   "execution_count": 1,
   "metadata": {},
   "outputs": [],
   "source": [
    "import pandas as pd\n",
    "import numpy as np\n",
    "import matplotlib.pyplot as plt\n",
    "import seaborn as sns"
   ]
  },
  {
   "cell_type": "code",
   "execution_count": 2,
   "metadata": {},
   "outputs": [],
   "source": [
    "df = pd.read_csv('survey_data.csv')"
   ]
  },
  {
   "cell_type": "code",
   "execution_count": 3,
   "metadata": {},
   "outputs": [
    {
     "data": {
      "text/html": [
       "<div>\n",
       "<style scoped>\n",
       "    .dataframe tbody tr th:only-of-type {\n",
       "        vertical-align: middle;\n",
       "    }\n",
       "\n",
       "    .dataframe tbody tr th {\n",
       "        vertical-align: top;\n",
       "    }\n",
       "\n",
       "    .dataframe thead th {\n",
       "        text-align: right;\n",
       "    }\n",
       "</style>\n",
       "<table border=\"1\" class=\"dataframe\">\n",
       "  <thead>\n",
       "    <tr style=\"text-align: right;\">\n",
       "      <th></th>\n",
       "      <th>name</th>\n",
       "      <th>location</th>\n",
       "      <th>job</th>\n",
       "      <th>salary</th>\n",
       "      <th>age</th>\n",
       "      <th>married</th>\n",
       "      <th>gpa</th>\n",
       "    </tr>\n",
       "  </thead>\n",
       "  <tbody>\n",
       "    <tr>\n",
       "      <th>0</th>\n",
       "      <td>Prudy Noelani</td>\n",
       "      <td>Poyntelle</td>\n",
       "      <td>Piano</td>\n",
       "      <td>874297</td>\n",
       "      <td>32</td>\n",
       "      <td>False</td>\n",
       "      <td>2.44</td>\n",
       "    </tr>\n",
       "    <tr>\n",
       "      <th>1</th>\n",
       "      <td>Libbi Alisan</td>\n",
       "      <td>Manteno</td>\n",
       "      <td>Proof</td>\n",
       "      <td>193955</td>\n",
       "      <td>51</td>\n",
       "      <td>False</td>\n",
       "      <td>1.09</td>\n",
       "    </tr>\n",
       "    <tr>\n",
       "      <th>2</th>\n",
       "      <td>Lyndsay Colley</td>\n",
       "      <td>Raywood</td>\n",
       "      <td>Maker</td>\n",
       "      <td>857501</td>\n",
       "      <td>75</td>\n",
       "      <td>False</td>\n",
       "      <td>1.87</td>\n",
       "    </tr>\n",
       "    <tr>\n",
       "      <th>3</th>\n",
       "      <td>Jeni Tine</td>\n",
       "      <td>Rosemead</td>\n",
       "      <td>Solicitor</td>\n",
       "      <td>664514</td>\n",
       "      <td>57</td>\n",
       "      <td>True</td>\n",
       "      <td>1.44</td>\n",
       "    </tr>\n",
       "    <tr>\n",
       "      <th>4</th>\n",
       "      <td>Cecil Lon</td>\n",
       "      <td>Drasco</td>\n",
       "      <td>Nanny</td>\n",
       "      <td>875426</td>\n",
       "      <td>49</td>\n",
       "      <td>True</td>\n",
       "      <td>2.02</td>\n",
       "    </tr>\n",
       "  </tbody>\n",
       "</table>\n",
       "</div>"
      ],
      "text/plain": [
       "             name   location        job  salary  age  married   gpa\n",
       "0   Prudy Noelani  Poyntelle      Piano  874297   32    False  2.44\n",
       "1    Libbi Alisan    Manteno      Proof  193955   51    False  1.09\n",
       "2  Lyndsay Colley    Raywood      Maker  857501   75    False  1.87\n",
       "3       Jeni Tine   Rosemead  Solicitor  664514   57     True  1.44\n",
       "4       Cecil Lon     Drasco      Nanny  875426   49     True  2.02"
      ]
     },
     "execution_count": 3,
     "metadata": {},
     "output_type": "execute_result"
    }
   ],
   "source": [
    "df.head()"
   ]
  },
  {
   "cell_type": "code",
   "execution_count": 4,
   "metadata": {},
   "outputs": [
    {
     "data": {
      "text/plain": [
       "name         object\n",
       "location     object\n",
       "job          object\n",
       "salary        int64\n",
       "age           int64\n",
       "married        bool\n",
       "gpa         float64\n",
       "dtype: object"
      ]
     },
     "execution_count": 4,
     "metadata": {},
     "output_type": "execute_result"
    }
   ],
   "source": [
    "df.dtypes"
   ]
  },
  {
   "cell_type": "markdown",
   "metadata": {},
   "source": [
    "##### 1.What is the total average Salary?\n"
   ]
  },
  {
   "cell_type": "code",
   "execution_count": 5,
   "metadata": {},
   "outputs": [
    {
     "name": "stdout",
     "output_type": "stream",
     "text": [
      "509800.014999\n"
     ]
    }
   ],
   "source": [
    "avg_sal = df['salary'].mean()\n",
    "print(avg_sal)"
   ]
  },
  {
   "cell_type": "markdown",
   "metadata": {},
   "source": [
    "**The average salary is 509800.01499**"
   ]
  },
  {
   "cell_type": "markdown",
   "metadata": {},
   "source": [
    "##### 2. What is the average GPA for people who's last names begin with \"A\""
   ]
  },
  {
   "cell_type": "code",
   "execution_count": 6,
   "metadata": {},
   "outputs": [],
   "source": [
    "# First we need to split the name column into two new column firstname and lastname\n",
    "df[['firstname','lastname']] = df['name'].str.split(\" \",expand=True)\n"
   ]
  },
  {
   "cell_type": "code",
   "execution_count": 7,
   "metadata": {},
   "outputs": [
    {
     "data": {
      "text/html": [
       "<div>\n",
       "<style scoped>\n",
       "    .dataframe tbody tr th:only-of-type {\n",
       "        vertical-align: middle;\n",
       "    }\n",
       "\n",
       "    .dataframe tbody tr th {\n",
       "        vertical-align: top;\n",
       "    }\n",
       "\n",
       "    .dataframe thead th {\n",
       "        text-align: right;\n",
       "    }\n",
       "</style>\n",
       "<table border=\"1\" class=\"dataframe\">\n",
       "  <thead>\n",
       "    <tr style=\"text-align: right;\">\n",
       "      <th></th>\n",
       "      <th>name</th>\n",
       "      <th>location</th>\n",
       "      <th>job</th>\n",
       "      <th>salary</th>\n",
       "      <th>age</th>\n",
       "      <th>married</th>\n",
       "      <th>gpa</th>\n",
       "      <th>firstname</th>\n",
       "      <th>lastname</th>\n",
       "    </tr>\n",
       "  </thead>\n",
       "  <tbody>\n",
       "    <tr>\n",
       "      <th>0</th>\n",
       "      <td>Prudy Noelani</td>\n",
       "      <td>Poyntelle</td>\n",
       "      <td>Piano</td>\n",
       "      <td>874297</td>\n",
       "      <td>32</td>\n",
       "      <td>False</td>\n",
       "      <td>2.44</td>\n",
       "      <td>Prudy</td>\n",
       "      <td>Noelani</td>\n",
       "    </tr>\n",
       "    <tr>\n",
       "      <th>1</th>\n",
       "      <td>Libbi Alisan</td>\n",
       "      <td>Manteno</td>\n",
       "      <td>Proof</td>\n",
       "      <td>193955</td>\n",
       "      <td>51</td>\n",
       "      <td>False</td>\n",
       "      <td>1.09</td>\n",
       "      <td>Libbi</td>\n",
       "      <td>Alisan</td>\n",
       "    </tr>\n",
       "    <tr>\n",
       "      <th>2</th>\n",
       "      <td>Lyndsay Colley</td>\n",
       "      <td>Raywood</td>\n",
       "      <td>Maker</td>\n",
       "      <td>857501</td>\n",
       "      <td>75</td>\n",
       "      <td>False</td>\n",
       "      <td>1.87</td>\n",
       "      <td>Lyndsay</td>\n",
       "      <td>Colley</td>\n",
       "    </tr>\n",
       "    <tr>\n",
       "      <th>3</th>\n",
       "      <td>Jeni Tine</td>\n",
       "      <td>Rosemead</td>\n",
       "      <td>Solicitor</td>\n",
       "      <td>664514</td>\n",
       "      <td>57</td>\n",
       "      <td>True</td>\n",
       "      <td>1.44</td>\n",
       "      <td>Jeni</td>\n",
       "      <td>Tine</td>\n",
       "    </tr>\n",
       "    <tr>\n",
       "      <th>4</th>\n",
       "      <td>Cecil Lon</td>\n",
       "      <td>Drasco</td>\n",
       "      <td>Nanny</td>\n",
       "      <td>875426</td>\n",
       "      <td>49</td>\n",
       "      <td>True</td>\n",
       "      <td>2.02</td>\n",
       "      <td>Cecil</td>\n",
       "      <td>Lon</td>\n",
       "    </tr>\n",
       "  </tbody>\n",
       "</table>\n",
       "</div>"
      ],
      "text/plain": [
       "             name   location        job  salary  age  married   gpa firstname  \\\n",
       "0   Prudy Noelani  Poyntelle      Piano  874297   32    False  2.44     Prudy   \n",
       "1    Libbi Alisan    Manteno      Proof  193955   51    False  1.09     Libbi   \n",
       "2  Lyndsay Colley    Raywood      Maker  857501   75    False  1.87   Lyndsay   \n",
       "3       Jeni Tine   Rosemead  Solicitor  664514   57     True  1.44      Jeni   \n",
       "4       Cecil Lon     Drasco      Nanny  875426   49     True  2.02     Cecil   \n",
       "\n",
       "  lastname  \n",
       "0  Noelani  \n",
       "1   Alisan  \n",
       "2   Colley  \n",
       "3     Tine  \n",
       "4      Lon  "
      ]
     },
     "execution_count": 7,
     "metadata": {},
     "output_type": "execute_result"
    }
   ],
   "source": [
    "df.head()"
   ]
  },
  {
   "cell_type": "code",
   "execution_count": 8,
   "metadata": {},
   "outputs": [
    {
     "data": {
      "text/html": [
       "<div>\n",
       "<style scoped>\n",
       "    .dataframe tbody tr th:only-of-type {\n",
       "        vertical-align: middle;\n",
       "    }\n",
       "\n",
       "    .dataframe tbody tr th {\n",
       "        vertical-align: top;\n",
       "    }\n",
       "\n",
       "    .dataframe thead th {\n",
       "        text-align: right;\n",
       "    }\n",
       "</style>\n",
       "<table border=\"1\" class=\"dataframe\">\n",
       "  <thead>\n",
       "    <tr style=\"text-align: right;\">\n",
       "      <th></th>\n",
       "      <th>name</th>\n",
       "      <th>location</th>\n",
       "      <th>job</th>\n",
       "      <th>salary</th>\n",
       "      <th>age</th>\n",
       "      <th>married</th>\n",
       "      <th>gpa</th>\n",
       "      <th>firstname</th>\n",
       "      <th>lastname</th>\n",
       "    </tr>\n",
       "  </thead>\n",
       "  <tbody>\n",
       "    <tr>\n",
       "      <th>1</th>\n",
       "      <td>Libbi Alisan</td>\n",
       "      <td>Manteno</td>\n",
       "      <td>Proof</td>\n",
       "      <td>193955</td>\n",
       "      <td>51</td>\n",
       "      <td>False</td>\n",
       "      <td>1.09</td>\n",
       "      <td>Libbi</td>\n",
       "      <td>Alisan</td>\n",
       "    </tr>\n",
       "    <tr>\n",
       "      <th>29</th>\n",
       "      <td>Kathrine Anjali</td>\n",
       "      <td>Gwinner</td>\n",
       "      <td>Plant</td>\n",
       "      <td>250913</td>\n",
       "      <td>32</td>\n",
       "      <td>True</td>\n",
       "      <td>2.22</td>\n",
       "      <td>Kathrine</td>\n",
       "      <td>Anjali</td>\n",
       "    </tr>\n",
       "    <tr>\n",
       "      <th>34</th>\n",
       "      <td>Shelbi Axe</td>\n",
       "      <td>Clarksburg</td>\n",
       "      <td>Printer</td>\n",
       "      <td>570498</td>\n",
       "      <td>51</td>\n",
       "      <td>True</td>\n",
       "      <td>1.35</td>\n",
       "      <td>Shelbi</td>\n",
       "      <td>Axe</td>\n",
       "    </tr>\n",
       "    <tr>\n",
       "      <th>88</th>\n",
       "      <td>Junette Azalea</td>\n",
       "      <td>Bluffton</td>\n",
       "      <td>Vehicle</td>\n",
       "      <td>275184</td>\n",
       "      <td>71</td>\n",
       "      <td>False</td>\n",
       "      <td>3.16</td>\n",
       "      <td>Junette</td>\n",
       "      <td>Azalea</td>\n",
       "    </tr>\n",
       "    <tr>\n",
       "      <th>131</th>\n",
       "      <td>Floria Asp</td>\n",
       "      <td>Columbiana</td>\n",
       "      <td>Farm</td>\n",
       "      <td>23916</td>\n",
       "      <td>80</td>\n",
       "      <td>False</td>\n",
       "      <td>2.25</td>\n",
       "      <td>Floria</td>\n",
       "      <td>Asp</td>\n",
       "    </tr>\n",
       "  </tbody>\n",
       "</table>\n",
       "</div>"
      ],
      "text/plain": [
       "                name    location      job  salary  age  married   gpa  \\\n",
       "1       Libbi Alisan     Manteno    Proof  193955   51    False  1.09   \n",
       "29   Kathrine Anjali     Gwinner    Plant  250913   32     True  2.22   \n",
       "34        Shelbi Axe  Clarksburg  Printer  570498   51     True  1.35   \n",
       "88    Junette Azalea    Bluffton  Vehicle  275184   71    False  3.16   \n",
       "131       Floria Asp  Columbiana     Farm   23916   80    False  2.25   \n",
       "\n",
       "    firstname lastname  \n",
       "1       Libbi   Alisan  \n",
       "29   Kathrine   Anjali  \n",
       "34     Shelbi      Axe  \n",
       "88    Junette   Azalea  \n",
       "131    Floria      Asp  "
      ]
     },
     "execution_count": 8,
     "metadata": {},
     "output_type": "execute_result"
    }
   ],
   "source": [
    "# first we need to select the data whose name start with 'a' in the lastname column so I'm creating a new column whose lastname\n",
    "#starts with 'A'\n",
    "avg_gpa = df[df['lastname'].str.startswith('A')]\n",
    "avg_gpa.head()"
   ]
  },
  {
   "cell_type": "code",
   "execution_count": 9,
   "metadata": {},
   "outputs": [
    {
     "data": {
      "text/plain": [
       "70324"
      ]
     },
     "execution_count": 9,
     "metadata": {},
     "output_type": "execute_result"
    }
   ],
   "source": [
    "avg_gpa['lastname'].count()"
   ]
  },
  {
   "cell_type": "markdown",
   "metadata": {},
   "source": [
    "##### We have total 70324 people whose last name start with 'A'"
   ]
  },
  {
   "cell_type": "code",
   "execution_count": 10,
   "metadata": {},
   "outputs": [
    {
     "data": {
      "text/plain": [
       "gpa    2.496632\n",
       "dtype: float64"
      ]
     },
     "execution_count": 10,
     "metadata": {},
     "output_type": "execute_result"
    }
   ],
   "source": [
    "# we have got all the data whose name start with 'A' now we can calculate the avg gpa\n",
    "\n",
    "avg_gpa[['gpa','lastname']].mean()"
   ]
  },
  {
   "cell_type": "markdown",
   "metadata": {},
   "source": [
    "**The average gpa of people whose lastname start with 'A' is 2.496632**"
   ]
  },
  {
   "cell_type": "markdown",
   "metadata": {},
   "source": [
    "##### 3. What is the most popular profession?"
   ]
  },
  {
   "cell_type": "code",
   "execution_count": 11,
   "metadata": {},
   "outputs": [
    {
     "data": {
      "text/plain": [
       "job       Zoologist\n",
       "salary       999998\n",
       "dtype: object"
      ]
     },
     "execution_count": 11,
     "metadata": {},
     "output_type": "execute_result"
    }
   ],
   "source": [
    "df[['job','salary']].max()"
   ]
  },
  {
   "cell_type": "code",
   "execution_count": 12,
   "metadata": {},
   "outputs": [
    {
     "data": {
      "text/plain": [
       "job\n",
       "Nursery    999998\n",
       "Name: salary, dtype: int64"
      ]
     },
     "execution_count": 12,
     "metadata": {},
     "output_type": "execute_result"
    }
   ],
   "source": [
    "df.groupby('job')['salary'].max().sort_values(ascending=False).head(1)"
   ]
  },
  {
   "cell_type": "markdown",
   "metadata": {},
   "source": [
    "**As we dont have a complete information on how to select the popular profession so i had selected the popular profession based on the salary. The profession which has the highest salary is taken as popular profession**\n",
    "**Also i had done groupby on the job column with respective salary column and then the Nursery profession has the maximum salary**"
   ]
  },
  {
   "cell_type": "markdown",
   "metadata": {},
   "source": [
    "###### 4.What is the median age of people who are married​"
   ]
  },
  {
   "cell_type": "code",
   "execution_count": 13,
   "metadata": {},
   "outputs": [
    {
     "data": {
      "text/plain": [
       "married\n",
       "False    49\n",
       "True     49\n",
       "Name: age, dtype: int64"
      ]
     },
     "execution_count": 13,
     "metadata": {},
     "output_type": "execute_result"
    }
   ],
   "source": [
    "df.groupby('married')['age'].median()"
   ]
  },
  {
   "cell_type": "markdown",
   "metadata": {},
   "source": [
    "#### The median age of people who are married and not married are same."
   ]
  },
  {
   "cell_type": "code",
   "execution_count": null,
   "metadata": {},
   "outputs": [],
   "source": []
  }
 ],
 "metadata": {
  "kernelspec": {
   "display_name": "Python 3",
   "language": "python",
   "name": "python3"
  },
  "language_info": {
   "codemirror_mode": {
    "name": "ipython",
    "version": 3
   },
   "file_extension": ".py",
   "mimetype": "text/x-python",
   "name": "python",
   "nbconvert_exporter": "python",
   "pygments_lexer": "ipython3",
   "version": "3.8.5"
  }
 },
 "nbformat": 4,
 "nbformat_minor": 4
}
